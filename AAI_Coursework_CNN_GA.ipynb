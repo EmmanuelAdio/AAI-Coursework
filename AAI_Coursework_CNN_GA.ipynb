{
  "cells": [
    {
      "cell_type": "markdown",
      "metadata": {
        "id": "view-in-github",
        "colab_type": "text"
      },
      "source": [
        "<a href=\"https://colab.research.google.com/github/EmmanuelAdio/AAI-Coursework/blob/main/AAI_Coursework_CNN_GA.ipynb\" target=\"_parent\"><img src=\"https://colab.research.google.com/assets/colab-badge.svg\" alt=\"Open In Colab\"/></a>"
      ]
    },
    {
      "cell_type": "markdown",
      "metadata": {
        "id": "XfGjX1HejE5f"
      },
      "source": [
        "# <center>  *Training different CNN model achitecture using genetic algorithms for image processessing* </center>\n",
        "\n",
        "---\n",
        "\n",
        "### Abstract\n",
        "Train different CNN model achitectures using the genetic algorithm and then ensambling the best models from ech generation to make a super model, for image classifaction on the CIFAR-10 dataset.\n",
        "\n",
        "### Introduction\n",
        "This will be the introduction for my coursework.\n",
        "\n",
        "### Learning objective\n",
        "This is where my abstract will be\n",
        "\n",
        "### Content\n",
        "This is where my abstract will be\n",
        "\n",
        "---"
      ]
    },
    {
      "cell_type": "markdown",
      "metadata": {
        "id": "ec5DXSbejE5h"
      },
      "source": [
        "## Libraries\n"
      ]
    },
    {
      "cell_type": "code",
      "execution_count": 1,
      "metadata": {
        "id": "zUMGYa6VjE5h"
      },
      "outputs": [],
      "source": [
        "# PyTorch libraries for neural network operations and optimization algorithms.\n",
        "import torch                                    # torch: PyTorch library for tensor operations and neural network functionalities.\n",
        "import torch.nn as nn                           # torch.nn: PyTorch library for neural network layers and operations.\n",
        "import torch.nn.functional as F                 # torch.nn.functional: PyTorch library for activation functions and other neural network operations.\n",
        "import torch.optim as optim                     # torch.optim: PyTorch library for optimization algorithms like SGD and Adam.\n",
        "import torchvision                              # torchvision: PyTorch library for computer vision tasks.\n",
        "import torchvision.transforms as transforms     # torchvision.transforms: PyTorch library for data augmentation and preprocessing of images.\n",
        "\n",
        "import matplotlib.pyplot as plt                 # matplotlib.pyplot: For plotting graphs and visualizing images.\n",
        "import numpy as np                              # numpy: For numerical operations and array manipulations.\n",
        "\n",
        "import time                                     # time: For measuring training and evaluation time.\n",
        "import random                                   # random: For random operations like shuffling and selecting random samples."
      ]
    },
    {
      "cell_type": "code",
      "execution_count": 2,
      "metadata": {
        "colab": {
          "base_uri": "https://localhost:8080/"
        },
        "id": "qWhmtcI5yjWp",
        "outputId": "5efb53fd-f1a5-4d48-8a9f-23de2e728481"
      },
      "outputs": [
        {
          "output_type": "stream",
          "name": "stdout",
          "text": [
            "Torch version :  2.5.1+cu124\n",
            "Cuda availability :  True \n",
            "\n",
            "Tesla T4\n",
            "0\n",
            "0\n",
            "0\n"
          ]
        }
      ],
      "source": [
        "# print the system information\n",
        "print(\"Torch version : \", torch.__version__)                                  # PyTorch version\n",
        "print(\"Cuda availability : \", torch.cuda.is_available(), \"\\n\")                # GPU availability\n",
        "\n",
        "if torch.cuda.is_available():\n",
        "\tprint(\"Device name : \",torch.cuda.get_device_name(0))        # GPU device name\n",
        "\tprint(\"Device ID : \",torch.cuda.current_device())          # GPU device ID\n",
        "else:\n",
        "\tprint(\"CUDA is not available. Running on CPU.\")"
      ]
    },
    {
      "cell_type": "markdown",
      "metadata": {
        "id": "po4eSR4RjE5i"
      },
      "source": [
        "---\n",
        "\n",
        "## Dataset\n",
        "\n",
        "The dataset used is the CIFAR10 for training.\n",
        "\n",
        "The CIFAR-10 dataset consists of 60000 32x32 colour images in 10 classes, with 6000 images per class. <br>\n",
        "There are 50000 training images and 10000 test images.\n"
      ]
    },
    {
      "cell_type": "code",
      "execution_count": 3,
      "metadata": {
        "colab": {
          "base_uri": "https://localhost:8080/"
        },
        "id": "McNrUOg7jE5i",
        "outputId": "b6717498-dc9e-4303-b03d-8161f2583fc6"
      },
      "outputs": [
        {
          "output_type": "stream",
          "name": "stdout",
          "text": [
            "Downloading https://www.cs.toronto.edu/~kriz/cifar-10-python.tar.gz to ./data/cifar-10-python.tar.gz\n"
          ]
        },
        {
          "output_type": "stream",
          "name": "stderr",
          "text": [
            "100%|██████████| 170M/170M [01:10<00:00, 2.42MB/s]\n"
          ]
        },
        {
          "output_type": "stream",
          "name": "stdout",
          "text": [
            "Extracting ./data/cifar-10-python.tar.gz to ./data\n",
            "Files already downloaded and verified\n"
          ]
        }
      ],
      "source": [
        "#CIFAR10 dataset\n",
        "\n",
        "# Load and normalise CIFAR10 dataset from Source [1]\n",
        "# Define a transform to normalize the data\n",
        "transform = transforms.Compose(\n",
        "    [transforms.ToTensor(),\n",
        "     transforms.Normalize((0.5, 0.5, 0.5), (0.5, 0.5, 0.5))])\n",
        "\n",
        "# Set the batch size for loading data\n",
        "batch_size = 4\n",
        "\n",
        "# Download and load the training dataset\n",
        "trainset = torchvision.datasets.CIFAR10(root='./data', train=True,\n",
        "                                        download=True, transform=transform)\n",
        "trainloader = torch.utils.data.DataLoader(trainset, batch_size=batch_size,\n",
        "                                          shuffle=True, num_workers=2)\n",
        "\n",
        "# Download and load the test dataset\n",
        "testset = torchvision.datasets.CIFAR10(root='./data', train=False,\n",
        "                                       download=True, transform=transform)\n",
        "testloader = torch.utils.data.DataLoader(testset, batch_size=batch_size,\n",
        "                                         shuffle=False, num_workers=2)\n",
        "\n",
        "# Define the classes in the dataset\n",
        "classes = ('plane', 'car', 'bird', 'cat',\n",
        "           'deer', 'dog', 'frog', 'horse', 'ship', 'truck')\n",
        "\n",
        "### End of source [1]\n",
        "\n",
        "# source [1] : https://pytorch.org/tutorials/beginner/blitz/cifar10_tutorial.html"
      ]
    },
    {
      "cell_type": "code",
      "execution_count": 4,
      "metadata": {
        "colab": {
          "base_uri": "https://localhost:8080/",
          "height": 192
        },
        "id": "lxV-586ejE5j",
        "outputId": "b7e2314a-9b0b-49b3-bbc9-8a55ad73b55d"
      },
      "outputs": [
        {
          "output_type": "display_data",
          "data": {
            "text/plain": [
              "<Figure size 1000x400 with 4 Axes>"
            ],
            "image/png": "[encoded data removed]"
          },
          "metadata": {}
        }
      ],
      "source": [
        "#function that shows images with their labels\n",
        "def show_images_labels(images, labels):\n",
        "    plt.figure(figsize=(10, 4))\n",
        "    for i in range(4):\n",
        "        plt.subplot(2, 5, i + 1)\n",
        "        img = images[i] / 2 + 0.5  # unnormalize\n",
        "        npimg = img.numpy()\n",
        "        plt.imshow(np.transpose(npimg, (1, 2, 0)))\n",
        "        plt.title(f\"{classes[labels[i]]}\")\n",
        "        plt.axis('off')\n",
        "    plt.show()\n",
        "\n",
        "# get some random training images.\n",
        "dataiter = iter(trainloader)\n",
        "images, labels = next(dataiter)\n",
        "\n",
        "show_images_labels(images, labels)"
      ]
    },
    {
      "cell_type": "markdown",
      "metadata": {
        "id": "xGyGTqrkjE5j"
      },
      "source": [
        "---\n",
        "\n",
        "## Base Model Implementation\n",
        "\n",
        "For our base neural network model we will be defining a CNN model ....\n"
      ]
    },
    {
      "cell_type": "code",
      "execution_count": 5,
      "metadata": {
        "id": "7eQNCDe3jE5j"
      },
      "outputs": [],
      "source": [
        "# Define the CNN model from Source [2] modified so it can be used for CIFAR10 dataset\n",
        "class CNN(nn.Module):\n",
        "    def __init__(self):\n",
        "        super(CNN, self).__init__()\n",
        "        self.conv1 = nn.Conv2d(3, 32, kernel_size=3, stride=1, padding=1)\n",
        "        self.conv2 = nn.Conv2d(32, 64, kernel_size=3, stride=1, padding=1)\n",
        "        self.fc1 = nn.Linear(64 * 8 * 8, 128)\n",
        "        self.fc2 = nn.Linear(128, 10)\n",
        "\n",
        "    def forward(self, x):\n",
        "        x = torch.relu(self.conv1(x))\n",
        "        x = torch.max_pool2d(x, kernel_size=2, stride=2)\n",
        "        x = torch.relu(self.conv2(x))\n",
        "        x = torch.max_pool2d(x, kernel_size=2, stride=2)\n",
        "        x = x.view(-1, 64 * 8 * 8)\n",
        "        x = torch.relu(self.fc1(x))\n",
        "        x = self.fc2(x)\n",
        "        return torch.log_softmax(x, dim=1)\n",
        "### End of source [2]"
      ]
    },
    {
      "cell_type": "code",
      "execution_count": 6,
      "metadata": {
        "id": "dckmKkWcjE5k"
      },
      "outputs": [],
      "source": [
        "class LeNet5(nn.Module):\n",
        "    def __init__(self, num_classes=10, grayscale=False):\n",
        "        super(LeNet5, self).__init__()\n",
        "\n",
        "        in_channels = 1 if grayscale else 3  # Handle grayscale vs. RGB input\n",
        "\n",
        "        self.features = nn.Sequential(\n",
        "            nn.Conv2d(in_channels, 6, kernel_size=5, padding=2),\n",
        "            nn.ReLU(),\n",
        "            nn.MaxPool2d(kernel_size=2, stride=2),\n",
        "\n",
        "            nn.Conv2d(6, 16, kernel_size=5),\n",
        "            nn.ReLU(),\n",
        "            nn.MaxPool2d(kernel_size=2, stride=2)\n",
        "        )\n",
        "\n",
        "        # Dynamically determine input size for the first FC layer\n",
        "        self._initialize_fc_layer(in_channels, num_classes)\n",
        "\n",
        "    def _initialize_fc_layer(self, in_channels, num_classes):\n",
        "        \"\"\" Helper function to initialize the fully connected layer dynamically \"\"\"\n",
        "        with torch.no_grad():\n",
        "            dummy_input = torch.zeros(1, in_channels, 32, 32)  # CIFAR-10 input size (3x32x32)\n",
        "            dummy_output = self.features(dummy_input)\n",
        "            flattened_size = dummy_output.view(1, -1).size(1)  # Flattened feature size\n",
        "\n",
        "        self.classifier = nn.Sequential(\n",
        "            nn.Linear(flattened_size, 120),\n",
        "            nn.ReLU(),\n",
        "            nn.Linear(120, 84),\n",
        "            nn.ReLU(),\n",
        "            nn.Linear(84, num_classes)\n",
        "        )\n",
        "\n",
        "    def forward(self, x):\n",
        "        x = self.features(x)\n",
        "        x = torch.flatten(x, 1)  # Flatten before passing to fully connected layers\n",
        "        logits = self.classifier(x)\n",
        "        return logits  # Logits (no softmax, works with CrossEntropyLoss)"
      ]
    },
    {
      "cell_type": "code",
      "execution_count": 7,
      "metadata": {
        "id": "JKbYz-QAjE5k"
      },
      "outputs": [],
      "source": [
        "def train_nn(model, trainloader, criterion, optimizer, epochs=2, use_gpu=True):\n",
        "    \"\"\"\n",
        "    Train a PyTorch neural network model efficiently.\n",
        "\n",
        "    Args:\n",
        "        model: PyTorch model to train (updated in-place).\n",
        "        trainloader: DataLoader containing training data.\n",
        "        criterion: Loss function.\n",
        "        optimizer: Optimizer (Adam, SGD, etc.).\n",
        "        epochs (int, optional): Number of training epochs. Default is 2.\n",
        "        use_gpu (bool, optional): If True, enables GPU acceleration.\n",
        "\n",
        "    Returns:\n",
        "        train_losses: List of training losses over time.\n",
        "        training_time: Total time taken to train the model.\n",
        "    \"\"\"\n",
        "    # Use GPU if available and selected\n",
        "    device = torch.device(\"cuda\" if use_gpu and torch.cuda.is_available() else \"cpu\")\n",
        "    model.to(device)  # Move model to GPU\n",
        "\n",
        "    model.train()  # Set model to training mode\n",
        "    train_losses = []\n",
        "\n",
        "    start_time = time.time()\n",
        "    for epoch in range(epochs):\n",
        "        running_loss = 0.0\n",
        "\n",
        "        for i, (inputs, labels) in enumerate(trainloader, start=1):\n",
        "            # Move inputs and labels to the correct device (CPU/GPU)\n",
        "            inputs, labels = inputs.to(device), labels.to(device)\n",
        "\n",
        "            optimizer.zero_grad()  # Reset gradients\n",
        "\n",
        "            outputs = model(inputs)  # Forward pass\n",
        "            loss = criterion(outputs, labels)  # Compute loss\n",
        "\n",
        "            loss.backward()  # Backpropagation\n",
        "            optimizer.step()  # Update weights\n",
        "\n",
        "            running_loss += loss.item()\n",
        "\n",
        "            # Log loss statistics every 2000 mini-batches\n",
        "            if i % 2000 == 0:\n",
        "                avg_loss = running_loss / 2000\n",
        "                train_losses.append(avg_loss)\n",
        "                running_loss = 0.0  # Reset running loss\n",
        "    end_time = time.time()\n",
        "\n",
        "    training_time = end_time - start_time\n",
        "    print('Finished Training')\n",
        "    return train_losses, training_time"
      ]
    },
    {
      "cell_type": "code",
      "execution_count": 8,
      "metadata": {
        "id": "QTdnR0qsjE5k"
      },
      "outputs": [],
      "source": [
        "def test_nn(testloader, model, use_gpu=True):\n",
        "    \"\"\"\n",
        "    Efficiently tests the model on all images in the test set and returns overall accuracy.\n",
        "\n",
        "    Args:\n",
        "        testloader: PyTorch DataLoader for test data.\n",
        "        model: Trained PyTorch model.\n",
        "        use_gpu (bool, optional): If True, uses GPU if available. Default is True.\n",
        "\n",
        "    Returns:\n",
        "        overall_accuracy (float): Accuracy of the model on the test set.\n",
        "    \"\"\"\n",
        "    # Select device (GPU if available, otherwise CPU)\n",
        "    device = torch.device(\"cuda\" if use_gpu and torch.cuda.is_available() else \"cpu\")\n",
        "    model.to(device)\n",
        "    model.eval()  # Set model to evaluation mode\n",
        "\n",
        "    correct = 0\n",
        "    total = 0\n",
        "\n",
        "    # Disable gradient computation for efficiency\n",
        "    with torch.no_grad():\n",
        "        for images, labels in testloader:\n",
        "            images, labels = images.to(device), labels.to(device)  # Move data to GPU/CPU\n",
        "            outputs = model(images)\n",
        "            _, predictions = torch.max(outputs, 1)  # Get predicted class\n",
        "\n",
        "            # Update total and correct predictions\n",
        "            total += labels.size(0)\n",
        "            correct += (predictions == labels).sum().item()\n",
        "\n",
        "    # Compute overall accuracy\n",
        "    overall_accuracy = 100 * correct / total\n",
        "\n",
        "    print(f\"Overall Model Accuracy: {overall_accuracy:.2f}%\")\n",
        "    return overall_accuracy\n"
      ]
    },
    {
      "cell_type": "code",
      "execution_count": 9,
      "metadata": {
        "id": "WB_F7p2NjE5k"
      },
      "outputs": [],
      "source": [
        "def test_4_random_images(testloader, model, classes, use_gpu=True):\n",
        "    \"\"\"\n",
        "    Visually tests the model on 4 random images from the test set and computes approximate accuracy.\n",
        "\n",
        "    Args:\n",
        "        testloader: PyTorch DataLoader for test data.\n",
        "        model: Trained PyTorch model.\n",
        "        classes: List of class labels.\n",
        "        use_gpu (bool, optional): Whether to use GPU if available.\n",
        "\n",
        "    Returns:\n",
        "        accuracy (float): Model accuracy on the 4 randomly selected images.\n",
        "    \"\"\"\n",
        "    device = torch.device(\"cuda\" if use_gpu and torch.cuda.is_available() else \"cpu\")\n",
        "    model.to(device)  # Move model to GPU\n",
        "    model.eval()  # Set model to evaluation mode\n",
        "\n",
        "    # Get a random batch from the testloader\n",
        "    dataiter = iter(testloader)\n",
        "    images, labels = next(dataiter)\n",
        "\n",
        "    # Select 4 random indices from the batch\n",
        "    indices = random.sample(range(len(images)), 4)\n",
        "    selected_images = images[indices]\n",
        "    selected_labels = labels[indices]\n",
        "\n",
        "    # Move data to GPU if available\n",
        "    selected_images, selected_labels = selected_images.to(device), selected_labels.to(device)\n",
        "\n",
        "    # Get model predictions\n",
        "    with torch.no_grad():\n",
        "        outputs = model(selected_images)\n",
        "        _, predicted = torch.max(outputs, 1)\n",
        "\n",
        "    # Compute accuracy\n",
        "    correct = (predicted == selected_labels).sum().item()\n",
        "    accuracy = correct / len(selected_labels) * 100\n",
        "\n",
        "    # Display images with labels and predictions\n",
        "    show_images_labels(selected_images.cpu(), selected_labels.cpu())\n",
        "    print('Predicted:   ', ' '.join(f'{classes[predicted[j]]:5s}' for j in range(4)))\n",
        "    print(f'Accuracy on these 4 images: {accuracy:.2f}%')\n",
        "\n",
        "    return accuracy"
      ]
    },
    {
      "cell_type": "code",
      "execution_count": 10,
      "metadata": {
        "id": "lk2tph7OjE5l"
      },
      "outputs": [],
      "source": [
        "def test_nn_per_class(testloader, model, classes, use_gpu=True):\n",
        "    \"\"\"\n",
        "    Efficiently tests the model on all images in the test set and returns per-class accuracy.\n",
        "\n",
        "    Args:\n",
        "        testloader: PyTorch DataLoader for test data.\n",
        "        model: Trained PyTorch model.\n",
        "        classes: List of class labels.\n",
        "        use_gpu (bool, optional): If True, uses GPU if available. Default is True.\n",
        "\n",
        "    Returns:\n",
        "        class_accuracies (dict): Dictionary containing accuracy for each class.\n",
        "    \"\"\"\n",
        "    # Select device (GPU if available, otherwise CPU)\n",
        "    device = torch.device(\"cuda\" if use_gpu and torch.cuda.is_available() else \"cpu\")\n",
        "    model.to(device)\n",
        "    model.eval()  # Set model to evaluation mode\n",
        "\n",
        "    # Prepare to count predictions for each class\n",
        "    correct_pred = {classname: 0 for classname in classes}\n",
        "    total_pred = {classname: 0 for classname in classes}\n",
        "\n",
        "    # Disable gradient computation for efficiency\n",
        "    with torch.no_grad():\n",
        "        for images, labels in testloader:\n",
        "            images, labels = images.to(device), labels.to(device)  # Move data to GPU/CPU\n",
        "            outputs = model(images)\n",
        "            _, predictions = torch.max(outputs, 1)  # Get predicted class\n",
        "\n",
        "            # Update per-class statistics\n",
        "            for label, prediction in zip(labels, predictions):\n",
        "                total_pred[classes[label.item()]] += 1  # Count total instances of each class\n",
        "                if label == prediction:\n",
        "                    correct_pred[classes[label.item()]] += 1  # Count correct predictions\n",
        "\n",
        "    # Compute per-class accuracy\n",
        "    class_accuracies = {\n",
        "        classname: (100 * correct_pred[classname] / total_pred[classname]) if total_pred[classname] > 0 else 0.0\n",
        "        for classname in classes\n",
        "    }\n",
        "\n",
        "    print(\"Finished per-class testing.\")\n",
        "    return class_accuracies\n"
      ]
    },
    {
      "cell_type": "markdown",
      "metadata": {
        "id": "YXVzTJeLjE5l"
      },
      "source": [
        "---\n",
        "\n",
        "## Genetic Algorithm Implementation\n",
        "\n",
        "<b> What is a Genetic algorithm?<b>"
      ]
    },
    {
      "cell_type": "code",
      "execution_count": 11,
      "metadata": {
        "id": "r4Lmvp43jE5l"
      },
      "outputs": [],
      "source": [
        "def compute_fitness(criterion, model, optimizer, trainloader, testloader,epochs):\n",
        "    # Train the model\n",
        "    train_nn(model, trainloader, criterion, optimizer, epochs)\n",
        "\n",
        "    # test the model.\n",
        "    test_accuracy = test_nn(testloader, model)\n",
        "    return test_accuracy"
      ]
    },
    {
      "cell_type": "code",
      "execution_count": 12,
      "metadata": {
        "id": "gjU4vjMsjE5l"
      },
      "outputs": [],
      "source": [
        "# write a function to initialise the population\n",
        "def initialise_population(population_size, model_class):\n",
        "    \"\"\"\n",
        "    Initializes a population of models.\n",
        "\n",
        "    Args:\n",
        "        population_size (int): Number of models in the population.\n",
        "        model_class (class): The class of the model to be instantiated.\n",
        "\n",
        "    Returns:\n",
        "        population (list): List of instantiated models.\n",
        "    \"\"\"\n",
        "    population = []\n",
        "    for i in range(population_size):\n",
        "        model = model_class()\n",
        "        population.append(model)\n",
        "    return population"
      ]
    },
    {
      "cell_type": "code",
      "execution_count": 13,
      "metadata": {
        "id": "-NjfAdmUjE5l"
      },
      "outputs": [],
      "source": [
        "# write the function to perform the crossover operation\n",
        "def crossover(parent1, parent2):\n",
        "    if isinstance(parent1, CNN) and isinstance(parent2, CNN):\n",
        "        child1 = CNN()\n",
        "        child2 = CNN()\n",
        "\n",
        "        # Perform crossover on the convolutional layers\n",
        "        child1.conv1.weight.data = torch.cat((parent1.conv1.weight.data[:16], parent2.conv1.weight.data[16:]), dim=0)\n",
        "        child2.conv1.weight.data = torch.cat((parent2.conv1.weight.data[:16], parent1.conv1.weight.data[16:]), dim=0)\n",
        "\n",
        "        # Perform crossover on the fully connected layers\n",
        "        child1.fc1.weight.data = torch.cat((parent1.fc1.weight.data[:64], parent2.fc1.weight.data[64:]), dim=0)\n",
        "        child2.fc1.weight.data = torch.cat((parent2.fc1.weight.data[:64], parent1.fc1.weight.data[64:]), dim=0)\n",
        "\n",
        "    elif isinstance(parent1, LeNet5) and isinstance(parent2, LeNet5):\n",
        "        child1 = LeNet5(num_classes=10)\n",
        "        child2 = LeNet5(num_classes=10)\n",
        "\n",
        "        # Perform crossover on the convolutional layers\n",
        "        child1.features[0].weight.data = torch.cat((parent1.features[0].weight.data[:3], parent2.features[0].weight.data[3:]), dim=0)\n",
        "        child2.features[0].weight.data = torch.cat((parent2.features[0].weight.data[:3], parent1.features[0].weight.data[3:]), dim=0)\n",
        "\n",
        "        # Perform crossover on the fully connected layers\n",
        "        child1.classifier[0].weight.data = torch.cat((parent1.classifier[0].weight.data[:60], parent2.classifier[0].weight.data[60:]), dim=0)\n",
        "        child2.classifier[0].weight.data = torch.cat((parent2.classifier[0].weight.data[:60], parent1.classifier[0].weight.data[60:]), dim=0)\n",
        "\n",
        "    else:\n",
        "        raise ValueError(\"Unsupported model types for crossover\")\n",
        "\n",
        "    return child1, child2"
      ]
    },
    {
      "cell_type": "code",
      "execution_count": 14,
      "metadata": {
        "id": "2VTRzKB_jE5l"
      },
      "outputs": [],
      "source": [
        "# write the function to perform the mutation operation\n",
        "def mutate(model, mutation_rate):\n",
        "    for param in model.parameters():\n",
        "        if torch.rand(1).item() < mutation_rate:\n",
        "            param.data += torch.randn(param.data.size()) * 0.1 # add random noise to the parameter\n",
        "    return model"
      ]
    },
    {
      "cell_type": "code",
      "execution_count": 15,
      "metadata": {
        "id": "to0yv8dyjE5l"
      },
      "outputs": [],
      "source": [
        "def run_genetic_algorithm(model_class, criterion, population_size, generations, trainloader, testloader, epochs, mutation_rate):\n",
        "    \"\"\"\n",
        "    Runs a Genetic Algorithm (GA) to optimize a neural network model.\n",
        "\n",
        "    Args:\n",
        "        population_size (int): Number of models in the population.\n",
        "        generations (int): Number of generations to evolve.\n",
        "        trainloader: PyTorch DataLoader for training data.\n",
        "        testloader: PyTorch DataLoader for test data.\n",
        "        epochs (int): Number of epochs for fitness evaluation.\n",
        "        mutation_rate (float): Probability of mutation.\n",
        "\n",
        "    Returns:\n",
        "        results (dict): Dictionary containing:\n",
        "            - 'best_model': Best model from the final generation.\n",
        "            - 'generation_times': List of time taken for each generation.\n",
        "            - 'best_accuracies': List of best accuracies from each generation.\n",
        "    \"\"\"\n",
        "\n",
        "\n",
        "    # Initialize the population\n",
        "    population = initialise_population(population_size, model_class)\n",
        "\n",
        "    # Tracking metrics\n",
        "    generation_times = []\n",
        "    best_accuracies = []\n",
        "\n",
        "    # Start Genetic Algorithm process\n",
        "    for generation in range(generations):\n",
        "        print(f\"\\nGeneration {generation + 1}\")\n",
        "\n",
        "        best_accuracy = 0\n",
        "        best_model = None\n",
        "        fitness_scores = np.zeros(population_size)  # Preallocate array for fitness scores\n",
        "\n",
        "        # Start timer for the generation\n",
        "        start_time = time.time()\n",
        "\n",
        "        # Evaluate fitness for each model\n",
        "        for i, model in enumerate(population):\n",
        "            optimizer = optim.SGD(model.parameters(), lr=0.001, momentum=0.9)  # Define optimizer\n",
        "            fitness = compute_fitness(criterion, model, optimizer, trainloader, testloader,epochs)\n",
        "            fitness_scores[i] = fitness\n",
        "\n",
        "            if fitness > best_accuracy:\n",
        "                best_accuracy = fitness\n",
        "                best_model = model\n",
        "\n",
        "        # End timer for the generation\n",
        "        end_time = time.time()\n",
        "        generation_time = end_time - start_time\n",
        "\n",
        "        # Store time and best accuracy for visualization\n",
        "        generation_times.append(generation_time)\n",
        "        best_accuracies.append(best_accuracy)\n",
        "\n",
        "        print(f'Best accuracy in generation {generation + 1} = {best_accuracy:.4f}')\n",
        "        print(f'Time taken for generation {generation + 1}: {generation_time:.2f} seconds')\n",
        "\n",
        "        # **Parent Selection**\n",
        "        top_indices = np.argsort(fitness_scores)[-population_size // 2:]  # Get top 50%\n",
        "        selected_parents = [population[i] for i in top_indices]\n",
        "\n",
        "        next_generation = []\n",
        "\n",
        "        # **Crossover & Mutation**\n",
        "        for i in range(0, len(selected_parents), 2):\n",
        "            parent1 = selected_parents[i]\n",
        "            parent2 = selected_parents[i + 1]\n",
        "\n",
        "            # Perform crossover\n",
        "            child1, child2 = crossover(parent1, parent2)\n",
        "\n",
        "            # Apply mutation\n",
        "            mutate(child1, mutation_rate)\n",
        "            mutate(child2, mutation_rate)\n",
        "\n",
        "            next_generation.append(child1)\n",
        "            next_generation.append(child2)\n",
        "\n",
        "        # Ensure the population size remains constant\n",
        "        population = next_generation[:population_size]\n",
        "\n",
        "    # **Return the best model and collected data for visualization**\n",
        "    results = {\n",
        "        \"best_model\": best_model,\n",
        "        \"generation_times\": generation_times,\n",
        "        \"best_accuracies\": best_accuracies\n",
        "    }\n",
        "\n",
        "    return results\n"
      ]
    },
    {
      "cell_type": "markdown",
      "metadata": {
        "id": "hLImSioEjE5m"
      },
      "source": [
        "---\n",
        "\n",
        "## Evaluation Function"
      ]
    },
    {
      "cell_type": "code",
      "execution_count": 16,
      "metadata": {
        "id": "nhuGifyUjE5m"
      },
      "outputs": [],
      "source": [
        "#This function will be used to evaluate the network.\n",
        "def evaluate_model(model, criterion, optimiser, trainloader, testloader, classes, epochs=5, use_gpu=True, show_graph=True, train=True):\n",
        "    \"\"\"\n",
        "    Trains and evaluates a PyTorch model while tracking losses and accuracies.\n",
        "\n",
        "    Args:\n",
        "        model: PyTorch model to train and evaluate.\n",
        "        trainloader: DataLoader containing training data.\n",
        "        testloader: DataLoader containing test data.\n",
        "        classes: List of class labels.\n",
        "        epochs (int, optional): Number of training epochs. Default is 10.\n",
        "        use_gpu (bool, optional): If True, enables GPU acceleration. Default is True.\n",
        "        show_graph (bool, optional): If True, displays accuracy/loss graphs. Default is True.\n",
        "        train (bool, optional): If True, trains the model. Default is True.\n",
        "\n",
        "    Returns:\n",
        "        results (dict): Dictionary containing:\n",
        "            - 'train_losses': List of training losses.\n",
        "            - 'train_accuracies': List of training accuracies.\n",
        "            - 'test_accuracies': List of test accuracies.\n",
        "            - 'test_class_accuracies': Dictionary of per-class accuracy.\n",
        "            - 'final_test_accuracy': Final overall test accuracy.\n",
        "            - 'total_time': Total time taken for training.\n",
        "    \"\"\"\n",
        "    # Move model to GPU if available\n",
        "    device = torch.device(\"cuda\" if use_gpu and torch.cuda.is_available() else \"cpu\")\n",
        "    model.to(device)\n",
        "\n",
        "    # Initialize tracking variables\n",
        "    train_losses = []\n",
        "    train_accuracies = []\n",
        "    test_accuracies = []\n",
        "\n",
        "    total_training_time = 0\n",
        "\n",
        "    if train:\n",
        "        # Training and Evaluation Loop\n",
        "        for epoch in range(epochs):\n",
        "            # print(f\"\\nEpoch {epoch+1}/{epochs}\")\n",
        "\n",
        "            # Train the model for one epoch\n",
        "            train_loss, train_time = train_nn(model, trainloader, criterion, optimiser, epochs=1, use_gpu=use_gpu)\n",
        "            total_training_time += train_time\n",
        "\n",
        "            # Test the model after training\n",
        "            test_accuracy = test_nn(testloader, model, use_gpu=use_gpu)\n",
        "\n",
        "            # Store losses and accuracies\n",
        "            train_losses.append(train_loss[-1])  # Store the last batch loss of the epoch\n",
        "            train_accuracies.append(test_nn(trainloader, model, use_gpu=use_gpu))\n",
        "            test_accuracies.append(test_accuracy)\n",
        "\n",
        "            # print(f'Epoch {epoch+1}: Train Loss: {train_loss[-1]:.4f}, Test Accuracy: {test_accuracy:.2f}%')\n",
        "\n",
        "        # Final test accuracy after all epochs\n",
        "        final_test_accuracy = test_accuracies[-1]\n",
        "    else:\n",
        "        final_test_accuracy = test_nn(testloader, model, use_gpu=use_gpu)\n",
        "\n",
        "\n",
        "    # final test acuracy per class\n",
        "    test_class_accuracies = test_nn_per_class(testloader, model, classes, use_gpu=use_gpu)\n",
        "\n",
        "    if show_graph:\n",
        "        if train:\n",
        "            # Plot training vs testing accuracy if enabled\n",
        "            plt.figure(figsize=(12, 6))\n",
        "            plt.plot(range(1, epochs+1), train_accuracies, label='Train Accuracy')\n",
        "            plt.plot(range(1, epochs+1), test_accuracies, label='Test Accuracy')\n",
        "            plt.title('Training vs Testing Accuracy')\n",
        "            plt.xlabel('Epochs')\n",
        "            plt.ylabel('Accuracy (%)')\n",
        "            plt.legend()\n",
        "            plt.grid(True)\n",
        "            plt.show()\n",
        "\n",
        "            #plot the loss curve over time as the model trained\n",
        "            plt.figure(figsize=(10, 5))\n",
        "            plt.plot(train_losses, label='Training Loss', color='blue')\n",
        "            plt.xlabel('Batch (x2000)')\n",
        "            plt.ylabel('Loss')\n",
        "            plt.title('Training Loss Over Time')\n",
        "            plt.legend()\n",
        "            plt.legend()\n",
        "            plt.grid(True)\n",
        "            plt.show()\n",
        "\n",
        "        # Plot per-class accuracy if enabled\n",
        "        plt.figure(figsize=(10, 5))\n",
        "        plt.bar(test_class_accuracies.keys(), test_class_accuracies.values(), color='blue')\n",
        "        plt.xlabel(\"Classes\")\n",
        "        plt.ylabel(\"Accuracy (%)\")\n",
        "        plt.title(\"Model Accuracy Per Class\")\n",
        "        plt.xticks(rotation=45)  # Rotate class names for readability\n",
        "        plt.ylim(0, 100)  # Set y-axis range to 0-100%\n",
        "        plt.show()\n",
        "\n",
        "        # print per-class accuracy\n",
        "        for classname, accuracy in test_class_accuracies():\n",
        "            print(f'Accuracy for class {classname:5s}: {accuracy:.1f}%')\n",
        "\n",
        "    # Return all results in a dictionary\n",
        "    results = {\n",
        "        \"train_losses\": train_losses,\n",
        "        \"train_accuracies\": train_accuracies,\n",
        "        \"test_accuracies\": test_accuracies,\n",
        "        \"test_class_accuracies\": test_class_accuracies,\n",
        "        \"final_test_accuracy\": final_test_accuracy,\n",
        "        \"total_training_time\": total_training_time\n",
        "    }\n",
        "\n",
        "    return results"
      ]
    },
    {
      "cell_type": "markdown",
      "metadata": {
        "id": "Js4dzdoGjE5m"
      },
      "source": [
        "---\n",
        "## Comparitive Analysis and Results\n"
      ]
    },
    {
      "cell_type": "code",
      "execution_count": 17,
      "metadata": {
        "colab": {
          "base_uri": "https://localhost:8080/"
        },
        "id": "ONh1j5vUyjWu",
        "outputId": "f50b6315-ba00-4e1b-ad60-531fb1677272"
      },
      "outputs": [
        {
          "output_type": "stream",
          "name": "stdout",
          "text": [
            "Number of classes: 10\n",
            "Number of training images: 50000\n",
            "Number of test images: 10000\n"
          ]
        }
      ],
      "source": [
        "#print the system stats that the models will be trained on such as the number of classes and the number of images in the training and test sets\n",
        "print(f\"Number of classes: {len(classes)}\")\n",
        "print(f\"Number of training images: {len(trainloader.dataset)}\")\n",
        "print(f\"Number of test images: {len(testloader.dataset)}\")\n"
      ]
    },
    {
      "cell_type": "code",
      "execution_count": 18,
      "metadata": {
        "id": "sGg_CjvmyjWv"
      },
      "outputs": [],
      "source": [
        "#Global variables used on all models to keep comparisions fair\n",
        "#genetic algorithm parameters\n",
        "GENERATIONS = 3\n",
        "POPULATION_SIZE = GENERATIONS * 2\n",
        "MUTATION_RATE = 0.1\n",
        "\n",
        "#training parameters\n",
        "EPOCHS = 5\n",
        "USE_GPU = True\n",
        "CRITERION = nn.CrossEntropyLoss()"
      ]
    },
    {
      "cell_type": "markdown",
      "metadata": {
        "id": "4ojw2CaijE5m"
      },
      "source": [
        "### Base model results\n"
      ]
    },
    {
      "cell_type": "code",
      "execution_count": 19,
      "metadata": {
        "colab": {
          "base_uri": "https://localhost:8080/",
          "height": 1000
        },
        "id": "JOlO1yyyjE5m",
        "outputId": "4c5bd780-47ca-419a-eaed-9beeeb601267"
      },
      "outputs": [
        {
          "output_type": "stream",
          "name": "stdout",
          "text": [
            "\\Evaluating Base CNN...\n",
            "Finished Training\n",
            "Overall Model Accuracy: 44.15%\n",
            "Overall Model Accuracy: 45.84%\n",
            "Finished Training\n",
            "Overall Model Accuracy: 42.49%\n",
            "Overall Model Accuracy: 44.41%\n",
            "Finished Training\n",
            "Overall Model Accuracy: 43.07%\n",
            "Overall Model Accuracy: 45.32%\n",
            "Finished Training\n",
            "Overall Model Accuracy: 41.44%\n",
            "Overall Model Accuracy: 44.56%\n",
            "Finished Training\n",
            "Overall Model Accuracy: 43.37%\n",
            "Overall Model Accuracy: 46.23%\n",
            "Finished Training\n",
            "Overall Model Accuracy: 40.57%\n",
            "Overall Model Accuracy: 44.20%\n",
            "Finished Training\n",
            "Overall Model Accuracy: 39.37%\n",
            "Overall Model Accuracy: 42.64%\n",
            "Finished Training\n",
            "Overall Model Accuracy: 40.39%\n",
            "Overall Model Accuracy: 43.26%\n",
            "Finished Training\n",
            "Overall Model Accuracy: 37.76%\n",
            "Overall Model Accuracy: 40.73%\n",
            "Finished Training\n",
            "Overall Model Accuracy: 36.59%\n",
            "Overall Model Accuracy: 39.74%\n",
            "Finished per-class testing.\n"
          ]
        },
        {
          "output_type": "display_data",
          "data": {
            "text/plain": [
              "<Figure size 1200x600 with 1 Axes>"
            ],
            "image/png": "[encoded data removed]"
          },
          "metadata": {}
        },
        {
          "output_type": "display_data",
          "data": {
            "text/plain": [
              "<Figure size 1000x500 with 1 Axes>"
            ],
            "image/png": "[encoded data removed]"
          },
          "metadata": {}
        },
        {
          "output_type": "display_data",
          "data": {
            "text/plain": [
              "<Figure size 1000x500 with 1 Axes>"
            ],
            "image/png": "[encoded data removed]"
          },
          "metadata": {}
        },
        {
          "output_type": "error",
          "ename": "TypeError",
          "evalue": "'dict' object is not callable",
          "traceback": [
            "\u001b[0;31m---------------------------------------------------------------------------\u001b[0m",
            "\u001b[0;31mTypeError\u001b[0m                                 Traceback (most recent call last)",
            "\u001b[0;32m<ipython-input-19-6b940a7f411d>\u001b[0m in \u001b[0;36m<cell line: 0>\u001b[0;34m()\u001b[0m\n\u001b[1;32m     14\u001b[0m     \u001b[0mprint\u001b[0m\u001b[0;34m(\u001b[0m\u001b[0;34mf\"\\Evaluating {model_name}...\"\u001b[0m\u001b[0;34m)\u001b[0m\u001b[0;34m\u001b[0m\u001b[0;34m\u001b[0m\u001b[0m\n\u001b[1;32m     15\u001b[0m     \u001b[0;31m# Train and evaluate the model storing the model\u001b[0m\u001b[0;34m\u001b[0m\u001b[0;34m\u001b[0m\u001b[0m\n\u001b[0;32m---> 16\u001b[0;31m     \u001b[0mmodel_results\u001b[0m \u001b[0;34m=\u001b[0m \u001b[0mevaluate_model\u001b[0m\u001b[0;34m(\u001b[0m\u001b[0mmodel\u001b[0m\u001b[0;34m,\u001b[0m \u001b[0mCRITERION\u001b[0m\u001b[0;34m,\u001b[0m \u001b[0moptimiser\u001b[0m\u001b[0;34m,\u001b[0m \u001b[0mtrainloader\u001b[0m\u001b[0;34m,\u001b[0m \u001b[0mtestloader\u001b[0m\u001b[0;34m,\u001b[0m \u001b[0mclasses\u001b[0m\u001b[0;34m,\u001b[0m \u001b[0mepochs\u001b[0m\u001b[0;34m=\u001b[0m\u001b[0mEPOCHS\u001b[0m\u001b[0;34m,\u001b[0m \u001b[0muse_gpu\u001b[0m\u001b[0;34m=\u001b[0m\u001b[0mUSE_GPU\u001b[0m\u001b[0;34m)\u001b[0m\u001b[0;34m\u001b[0m\u001b[0;34m\u001b[0m\u001b[0m\n\u001b[0m\u001b[1;32m     17\u001b[0m \u001b[0;34m\u001b[0m\u001b[0m\n\u001b[1;32m     18\u001b[0m     \u001b[0;31m# Store results\u001b[0m\u001b[0;34m\u001b[0m\u001b[0;34m\u001b[0m\u001b[0m\n",
            "\u001b[0;32m<ipython-input-16-f6d2db9dd521>\u001b[0m in \u001b[0;36mevaluate_model\u001b[0;34m(model, criterion, optimiser, trainloader, testloader, classes, epochs, use_gpu, show_graph, train)\u001b[0m\n\u001b[1;32m     97\u001b[0m \u001b[0;34m\u001b[0m\u001b[0m\n\u001b[1;32m     98\u001b[0m         \u001b[0;31m# print per-class accuracy\u001b[0m\u001b[0;34m\u001b[0m\u001b[0;34m\u001b[0m\u001b[0m\n\u001b[0;32m---> 99\u001b[0;31m         \u001b[0;32mfor\u001b[0m \u001b[0mclassname\u001b[0m\u001b[0;34m,\u001b[0m \u001b[0maccuracy\u001b[0m \u001b[0;32min\u001b[0m \u001b[0mtest_class_accuracies\u001b[0m\u001b[0;34m(\u001b[0m\u001b[0;34m)\u001b[0m\u001b[0;34m:\u001b[0m\u001b[0;34m\u001b[0m\u001b[0;34m\u001b[0m\u001b[0m\n\u001b[0m\u001b[1;32m    100\u001b[0m             \u001b[0mprint\u001b[0m\u001b[0;34m(\u001b[0m\u001b[0;34mf'Accuracy for class {classname:5s}: {accuracy:.1f}%'\u001b[0m\u001b[0;34m)\u001b[0m\u001b[0;34m\u001b[0m\u001b[0;34m\u001b[0m\u001b[0m\n\u001b[1;32m    101\u001b[0m \u001b[0;34m\u001b[0m\u001b[0m\n",
            "\u001b[0;31mTypeError\u001b[0m: 'dict' object is not callable"
          ]
        }
      ],
      "source": [
        "# Initialize base models\n",
        "models = {\n",
        "    \"Base CNN\": CNN(),\n",
        "    \"LeNet-5\": LeNet5(num_classes=10)\n",
        "}\n",
        "\n",
        "# Store results\n",
        "results = {}\n",
        "\n",
        "for model_name, model in models.items():\n",
        "    # Specify the loss function and optimizer\n",
        "    optimiser = optim.SGD(model.parameters(), lr=0.01, momentum=0.9)\n",
        "\n",
        "    print(f\"\\Evaluating {model_name}...\")\n",
        "    # Train and evaluate the model storing the model\n",
        "    model_results = evaluate_model(model, CRITERION, optimiser, trainloader, testloader, classes, epochs=EPOCHS, use_gpu=USE_GPU)\n",
        "\n",
        "    # Store results\n",
        "    results[model_name] = model_results\n",
        "\n",
        "    # Print results\n",
        "    accuracy = results[model_name][\"final_test_accuracy\"]\n",
        "    training_time = results[model_name][\"total_training_time\"]\n",
        "\n",
        "    print(f\"{model_name} Final Accuracy: {accuracy:.2f}%\")\n",
        "    print(f\"{model_name} Training Time: {training_time:.2f} seconds\\n\")"
      ]
    },
    {
      "cell_type": "code",
      "execution_count": null,
      "metadata": {
        "id": "INxK37ioyjWw"
      },
      "outputs": [],
      "source": [
        "#show graphs to compare the base models\n",
        "\n",
        "# Extracting results for plotting\n",
        "cnn_losses = results[\"Base CNN\"][\"train_losses\"]\n",
        "lenet_losses = results[\"LeNet-5\"][\"train_losses\"]\n",
        "\n",
        "cnn_accuracy = results[\"Base CNN\"][\"final_test_accuracy\"]\n",
        "lenet_accuracy = results[\"LeNet-5\"][\"final_test_accuracy\"]\n",
        "\n",
        "cnn_time = results[\"Base CNN\"][\"total_training_time\"]\n",
        "lenet_time = results[\"LeNet-5\"][\"total_training_time\"]\n",
        "\n",
        "# Plot Training Loss Progression\n",
        "plt.figure(figsize=(10, 5))\n",
        "plt.plot(range(1, len(cnn_losses) + 1), cnn_losses, label=\"Base CNN\", linestyle=\"-\", marker=\"o\")\n",
        "plt.plot(range(1, len(lenet_losses) + 1), lenet_losses, label=\"LeNet-5\", linestyle=\"--\", marker=\"s\")\n",
        "plt.xlabel(\"Epochs\")\n",
        "plt.ylabel(\"Training Loss\")\n",
        "plt.title(\"Training Loss Comparison: CNN vs. LeNet-5\")\n",
        "plt.legend()\n",
        "plt.grid(True)\n",
        "plt.show()\n",
        "\n",
        "# Plot Training Time and Accuracy Comparison\n",
        "fig, ax1 = plt.subplots(figsize=(10, 5))\n",
        "\n",
        "# Bar chart for accuracy\n",
        "ax1.bar([\"Base CNN\", \"LeNet-5\"], [cnn_accuracy, lenet_accuracy], color=['blue', 'red'], alpha=0.6, label=\"Accuracy\")\n",
        "ax1.set_ylabel(\"Accuracy (%)\")\n",
        "ax1.set_ylim(0, 100)\n",
        "\n",
        "# Line plot for training time\n",
        "ax2 = ax1.twinx()\n",
        "ax2.plot([\"Base CNN\", \"LeNet-5\"], [cnn_time, lenet_time], marker=\"o\", color=\"green\", label=\"Training Time\")\n",
        "ax2.set_ylabel(\"Training Time (seconds)\")\n",
        "\n",
        "# Labels and title\n",
        "plt.title(\"Model Comparison: Accuracy & Training Time\")\n",
        "ax1.legend(loc=\"upper left\")\n",
        "ax2.legend(loc=\"upper right\")\n",
        "plt.grid(True)\n",
        "plt.show()"
      ]
    },
    {
      "cell_type": "code",
      "execution_count": null,
      "metadata": {
        "id": "PdFGvagRyjWw"
      },
      "outputs": [],
      "source": [
        "#save the models after they have been trained\n",
        "torch.save(models[\"Base CNN\"].state_dict(), \"base_cnn.pth\")\n",
        "torch.save(models[\"LeNet-5\"].state_dict(), \"lenet5.pth\")"
      ]
    },
    {
      "cell_type": "markdown",
      "metadata": {
        "id": "N1F80YAijE5n"
      },
      "source": [
        "### Genetic algorithm results"
      ]
    },
    {
      "cell_type": "code",
      "execution_count": null,
      "metadata": {
        "id": "M2h-lV53jE5n"
      },
      "outputs": [],
      "source": [
        "# Define models\n",
        "models = {\n",
        "    \"Base CNN\": CNN,\n",
        "    \"LeNet-5\": lambda: LeNet5(num_classes=10)\n",
        "}\n",
        "\n",
        "# Store results\n",
        "ga_results = {}\n",
        "\n",
        "for model_name, model_class in models.items():\n",
        "    print(f\"\\nRunning Genetic Algorithm for {model_name}...\")\n",
        "\n",
        "    # Run GA for this model\n",
        "    ga_results[model_name] = run_genetic_algorithm(model_class, CRITERION, POPULATION_SIZE, GENERATIONS, trainloader, testloader, epochs=EPOCHS, mutation_rate=MUTATION_RATE)"
      ]
    },
    {
      "cell_type": "code",
      "execution_count": null,
      "metadata": {
        "id": "F4o39RkfyjWx"
      },
      "outputs": [],
      "source": [
        "# Evaluate the base cnn best models\n",
        "best_cnn_model = ga_results[\"Base CNN\"][\"best_model\"]\n",
        "best_cnn_results = evaluate_model(best_cnn_model, CRITERION, optimiser, trainloader, testloader, classes, epochs=EPOCHS, use_gpu=USE_GPU, train=False)"
      ]
    },
    {
      "cell_type": "code",
      "execution_count": null,
      "metadata": {
        "id": "-uLrEskByjWx"
      },
      "outputs": [],
      "source": [
        "#Evaluate the lenet best model\n",
        "best_lenet_model = ga_results[\"LeNet-5\"][\"best_model\"]\n",
        "best_lenet_results = evaluate_model(best_lenet_model, CRITERION, optimiser, trainloader, testloader, classes, epochs=EPOCHS, use_gpu=USE_GPU, train=False)\n"
      ]
    },
    {
      "cell_type": "code",
      "execution_count": null,
      "metadata": {
        "id": "2nyLgfs5jE5n"
      },
      "outputs": [],
      "source": [
        "# compare the models\n",
        "# Print Summary for Each Model\n",
        "for model_name, results in ga_results.items():\n",
        "    print(f\"\\n{model_name} Final Best Accuracy: {results['best_accuracies'][-1]:.2f}%\")\n",
        "    print(f\"{model_name} Time Taken Per Generation: {results['generation_times']}\")\n",
        "\n",
        "# Extract results for visualization\n",
        "cnn_best_accuracies = ga_results[\"Base CNN\"][\"best_accuracies\"]\n",
        "lenet_best_accuracies = ga_results[\"LeNet-5\"][\"best_accuracies\"]\n",
        "\n",
        "cnn_generation_times = ga_results[\"Base CNN\"][\"generation_times\"]\n",
        "lenet_generation_times = ga_results[\"LeNet-5\"][\"generation_times\"]\n",
        "\n",
        "# Plot Accuracy Progression\n",
        "plt.figure(figsize=(10, 5))\n",
        "plt.plot(range(1, len(cnn_best_accuracies) + 1), cnn_best_accuracies, marker=\"o\", linestyle=\"-\", label=\"Base CNN\")\n",
        "plt.plot(range(1, len(lenet_best_accuracies) + 1), lenet_best_accuracies, marker=\"s\", linestyle=\"--\", label=\"LeNet-5\")\n",
        "plt.xlabel(\"Generation\")\n",
        "plt.ylabel(\"Best Accuracy (%)\")\n",
        "plt.title(\"Genetic Algorithm: Accuracy Progression (CNN vs. LeNet-5)\")\n",
        "plt.legend()\n",
        "plt.grid(True)\n",
        "plt.show()\n",
        "\n",
        "# Plot Training Time per Generation\n",
        "plt.figure(figsize=(10, 5))\n",
        "plt.plot(range(1, len(cnn_generation_times) + 1), cnn_generation_times, marker=\"o\", linestyle=\"-\", label=\"Base CNN\")\n",
        "plt.plot(range(1, len(lenet_generation_times) + 1), lenet_generation_times, marker=\"s\", linestyle=\"--\", label=\"LeNet-5\")\n",
        "plt.xlabel(\"Generation\")\n",
        "plt.ylabel(\"Time Taken (seconds)\")\n",
        "plt.title(\"Genetic Algorithm: Time Taken Per Generation (CNN vs. LeNet-5)\")\n",
        "plt.legend()\n",
        "plt.grid(True)\n",
        "plt.show()"
      ]
    },
    {
      "cell_type": "code",
      "execution_count": null,
      "metadata": {
        "id": "hFBkMA_ojE5n"
      },
      "outputs": [],
      "source": [
        "# save the best models\n",
        "torch.save(best_cnn_model.state_dict(), \"best_cnn_model.pth\")\n",
        "torch.save(best_lenet_model.state_dict(), \"best_lenet_model.pth\")"
      ]
    },
    {
      "cell_type": "markdown",
      "metadata": {
        "id": "Rcr28jLiyjWx"
      },
      "source": [
        "---\n",
        "\n",
        "## Hybrid model"
      ]
    },
    {
      "cell_type": "code",
      "execution_count": null,
      "metadata": {
        "id": "gkZO_WKLyjWx"
      },
      "outputs": [],
      "source": []
    },
    {
      "cell_type": "markdown",
      "metadata": {
        "id": "WvrSesQQjE5o"
      },
      "source": [
        "---\n",
        "## Conclusion\n",
        "\n"
      ]
    },
    {
      "cell_type": "markdown",
      "metadata": {
        "id": "b6tyoEmCjE5o"
      },
      "source": [
        "---\n",
        "## Tutorial comparison\n"
      ]
    },
    {
      "cell_type": "markdown",
      "metadata": {
        "id": "g1yLCLhMjE5o"
      },
      "source": [
        "---\n",
        "## References\n",
        "\n",
        "\n",
        "source [1] : https://pytorch.org/tutorials/beginner/blitz/cifar10_tutorial.html <br>\n",
        "source [2] : https://www.geeksforgeeks.org/how-to-implement-genetic-algorithm-using-pytorch/"
      ]
    }
  ],
  "metadata": {
    "colab": {
      "provenance": [],
      "machine_shape": "hm",
      "gpuType": "T4",
      "include_colab_link": true
    },
    "kernelspec": {
      "display_name": "Python 3",
      "name": "python3"
    },
    "language_info": {
      "codemirror_mode": {
        "name": "ipython",
        "version": 3
      },
      "file_extension": ".py",
      "mimetype": "text/x-python",
      "name": "python",
      "nbconvert_exporter": "python",
      "pygments_lexer": "ipython3",
      "version": "3.12.8"
    },
    "accelerator": "GPU"
  },
  "nbformat": 4,
  "nbformat_minor": 0
}