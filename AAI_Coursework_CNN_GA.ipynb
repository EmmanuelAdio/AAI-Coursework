{
  "cells": [
    {
      "cell_type": "markdown",
      "metadata": {
        "id": "view-in-github",
        "colab_type": "text"
      },
      "source": [
        "<a href=\"https://colab.research.google.com/github/EmmanuelAdio/AAI-Coursework/blob/main/AAI_Coursework_CNN_GA.ipynb\" target=\"_parent\"><img src=\"https://colab.research.google.com/assets/colab-badge.svg\" alt=\"Open In Colab\"/></a>"
      ]
    },
    {
      "cell_type": "markdown",
      "metadata": {
        "id": "XfGjX1HejE5f"
      },
      "source": [
        "# <center>  ***Training Convolutional Neural Networks Using Genetic Algorithms and Enhancing Performance with Ensemble Learning*** </center>\n",
        "\n",
        "---\n",
        "\n",
        "## **Abstract**\n",
        "This tutorial explores how to train Convolutional Neural Networks (CNNs) using GA, evaluating different CNN architectures to assess their effectiveness. After comparing GA-trained models in terms of accuracy, convergence speed, and computational cost, we further enhance performance by applying ensemble learning techniques. The goal is to demonstrate how model ensembling can improve classification accuracy by leveraging multiple GA-optimized networks for better decision-making.\n",
        "\n",
        "## **Learning objective**\n",
        "By the end of this tutorial, you will:\n",
        "\n",
        "- **Understand Genetic Algorithms (GA)** and how they can be used to optimize Convolutional Neural Networks (CNNs).  \n",
        "- **Implement GA for CNN training in PyTorch**, including selection, crossover, and mutation techniques.  \n",
        "- **Compare different CNN models trained using GA**, analyzing accuracy, convergence, and computational efficiency.  \n",
        "- **Apply Ensemble Learning techniques** to improve classification performance by combining GA-trained CNNs.  \n",
        "- **Visualize model performance** using accuracy/loss curves and per-class accuracy analysis.  \n",
        "- **Gain practical experience** in evolutionary optimization and ensemble learning, enhancing deep learning pipelines.  \n",
        "\n",
        "## **Table of Contents**\n",
        "1. [Introduction](#Introduction)\n",
        "2. [CNN Architectures Used](#CNN-Architectures-Used)\n",
        "3. [Implementing Genetic Algorithm for CNN Training](#Implementing-Genetic-Algorithm-for-CNN-Training)\n",
        "4. [Comparing CNNs Trained Using Genetic Algorithms](#Comparing-CNNs-Trained-Using-Genetic-Algorithms)\n",
        "5. [Ensemble Learning: Combining GA-Trained CNNs](#Ensemble-Learning-Combining-GA-Trained-CNNs)\n",
        "6. [Evaluation and Visualization](#Evaluation-and-Visualization)\n",
        "7. [Conclusion](#Conclusion)\n",
        "8. [References](#References)\n",
        "<br>\n",
        "<br>\n",
        "---\n"
      ]
    },
    {
      "cell_type": "markdown",
      "metadata": {
        "id": "MSpxIRV8Czm6"
      },
      "source": [
        "## **Introduction**\n",
        "Training **Convolutional Neural Networks (CNNs)** efficiently is a key challenge in deep learning. Traditional optimization techniques such as **Stochastic Gradient Descent (SGD)** and **Adam** rely on backpropagation to update model weights. However, **Genetic Algorithms (GAs)** provide an alternative approach by evolving network parameters through a population-based optimization process.\n",
        "\n",
        "This tutorial explores how **Genetic Algorithms (GA) can be used to train CNNs** without relying on gradient-based methods. By implementing **selection, crossover, and mutation**, we optimize CNN weights across multiple generations. The **performance of GA-trained CNNs** is then evaluated and compared, highlighting accuracy trends and computational costs.\n",
        "\n",
        "Finally, we **apply ensemble learning techniques** to combine multiple GA-trained models into a single classifier, aiming to improve classification performance. This hybrid approach leverages the strengths of different models, leading to a more robust deep learning solution.\n",
        "\n",
        "\n",
        "## **What is a Genetic Algorithm?**\n",
        "A **Genetic Algorithm (GA)** is an evolutionary optimization technique inspired by **natural selection**. It evolves a population of solutions over generations to optimize a given objective function. Instead of using gradients to adjust weights (as in traditional deep learning), GA applies:\n",
        "- **Selection**: Choosing the best-performing models (high accuracy CNNs).\n",
        "- **Crossover**: Mixing features from selected models to create new ones.\n",
        "- **Mutation**: Slightly altering model parameters to introduce diversity.\n"
      ]
    },
    {
      "cell_type": "markdown",
      "metadata": {
        "id": "ec5DXSbejE5h"
      },
      "source": [
        "---\n",
        "## Libraries\n"
      ]
    },
    {
      "cell_type": "code",
      "execution_count": 27,
      "metadata": {
        "id": "zUMGYa6VjE5h"
      },
      "outputs": [],
      "source": [
        "# PyTorch libraries for neural network operations and optimization algorithms.\n",
        "import torch                                    # torch: PyTorch library for tensor operations and neural network functionalities.\n",
        "import torch.nn as nn                           # torch.nn: PyTorch library for neural network layers and operations.\n",
        "import torch.nn.functional as F                 # torch.nn.functional: PyTorch library for activation functions and other neural network operations.\n",
        "import torch.optim as optim                     # torch.optim: PyTorch library for optimization algorithms like SGD and Adam.\n",
        "import torchvision                              # torchvision: PyTorch library for computer vision tasks.\n",
        "import torchvision.transforms as transforms     # torchvision.transforms: PyTorch library for data augmentation and preprocessing of images.\n",
        "\n",
        "import matplotlib.pyplot as plt                 # matplotlib.pyplot: For plotting graphs and visualizing images.\n",
        "import numpy as np                              # numpy: For numerical operations and array manipulations.\n",
        "\n",
        "import time                                     # time: For measuring training and evaluation time.\n",
        "import random                                   # random: For random operations like shuffling and selecting random samples."
      ]
    },
    {
      "cell_type": "code",
      "execution_count": 28,
      "metadata": {
        "colab": {
          "base_uri": "https://localhost:8080/"
        },
        "id": "qWhmtcI5yjWp",
        "outputId": "402df80d-736f-476d-bbbd-972d2de200fa"
      },
      "outputs": [
        {
          "output_type": "stream",
          "name": "stdout",
          "text": [
            "Torch version :  2.5.1+cu124\n",
            "Cuda availability :  True \n",
            "\n",
            "Device name :  NVIDIA A100-SXM4-40GB\n",
            "Device ID :  0\n"
          ]
        }
      ],
      "source": [
        "# print the system information\n",
        "print(\"Torch version : \", torch.__version__)                                  # PyTorch version\n",
        "print(\"Cuda availability : \", torch.cuda.is_available(), \"\\n\")                # GPU availability\n",
        "\n",
        "if torch.cuda.is_available():\n",
        "\tprint(\"Device name : \",torch.cuda.get_device_name(0))        # GPU device name\n",
        "\tprint(\"Device ID : \",torch.cuda.current_device())          # GPU device ID\n",
        "else:\n",
        "\tprint(\"CUDA is not available. Running on CPU.\")"
      ]
    },
    {
      "cell_type": "markdown",
      "metadata": {
        "id": "po4eSR4RjE5i"
      },
      "source": [
        "---\n",
        "## **Dataset Used: CIFAR-10**\n",
        "\n",
        "The **CIFAR-10** dataset is used for training and evaluating the CNN models in this tutorial. It is a well-known benchmark dataset in computer vision, widely used for image classification tasks.\n",
        "\n",
        "### **Dataset Overview**\n",
        "- **Total Images**: 60,000\n",
        "- **Image Size**: 32x32 pixels\n",
        "- **Number of Classes**: 10\n",
        "- **Training Set**: 50,000 images\n",
        "- **Test Set**: 10,000 images\n",
        "- **Color Channels**: RGB (3 channels)\n",
        "\n",
        "### **CIFAR-10 Classes**\n",
        "The dataset contains **10 categories**, each with **6,000 images**:\n",
        "1. **Plane**  \n",
        "2. **Car**  \n",
        "3. **Bird**\n",
        "4. **Cat**  \n",
        "5. **Deer**  \n",
        "6. **Dog**\n",
        "7. **Frog**\n",
        "8. **Horse**\n",
        "9. **Ship**\n",
        "10. **Truck**"
      ]
    },
    {
      "cell_type": "code",
      "execution_count": 29,
      "metadata": {
        "colab": {
          "base_uri": "https://localhost:8080/"
        },
        "id": "McNrUOg7jE5i",
        "outputId": "2299b8f2-01d6-40ea-f763-dc53e55642b0"
      },
      "outputs": [
        {
          "output_type": "stream",
          "name": "stdout",
          "text": [
            "Files already downloaded and verified\n",
            "Files already downloaded and verified\n"
          ]
        }
      ],
      "source": [
        "#CIFAR10 dataset\n",
        "\n",
        "# Load and normalise CIFAR10 dataset from Source [1]\n",
        "# Define a transform to normalize the data\n",
        "transform = transforms.Compose(\n",
        "    [transforms.ToTensor(),\n",
        "     transforms.Normalize((0.5, 0.5, 0.5), (0.5, 0.5, 0.5))])\n",
        "\n",
        "# Set the batch size for loading data\n",
        "batch_size = 4\n",
        "\n",
        "# Download and load the training dataset\n",
        "trainset = torchvision.datasets.CIFAR10(root='./data', train=True,\n",
        "                                        download=True, transform=transform)\n",
        "trainloader = torch.utils.data.DataLoader(trainset, batch_size=batch_size,\n",
        "                                          shuffle=True, num_workers=2)\n",
        "\n",
        "# Download and load the test dataset\n",
        "testset = torchvision.datasets.CIFAR10(root='./data', train=False,\n",
        "                                       download=True, transform=transform)\n",
        "testloader = torch.utils.data.DataLoader(testset, batch_size=batch_size,\n",
        "                                         shuffle=False, num_workers=2)\n",
        "\n",
        "# Define the classes in the dataset\n",
        "classes = ('plane', 'car', 'bird', 'cat',\n",
        "           'deer', 'dog', 'frog', 'horse', 'ship', 'truck')\n",
        "\n",
        "### End of source [1]\n",
        "\n",
        "# source [1] : https://pytorch.org/tutorials/beginner/blitz/cifar10_tutorial.html"
      ]
    },
    {
      "cell_type": "code",
      "execution_count": 30,
      "metadata": {
        "colab": {
          "base_uri": "https://localhost:8080/",
          "height": 192
        },
        "id": "lxV-586ejE5j",
        "outputId": "10304a6c-be25-41ad-e678-fa2ac512b00a"
      },
      "outputs": [
        {
          "output_type": "display_data",
          "data": {
            "text/plain": [
              "<Figure size 1000x400 with 4 Axes>"
            ],
            "image/png": "[encoded data removed]"
          },
          "metadata": {}
        }
      ],
      "source": [
        "#function that shows images with their labels\n",
        "def show_images_labels(images, labels):\n",
        "    plt.figure(figsize=(10, 4))\n",
        "    for i in range(4):\n",
        "        plt.subplot(2, 5, i + 1)\n",
        "        img = images[i] / 2 + 0.5  # unnormalize\n",
        "        npimg = img.numpy()\n",
        "        plt.imshow(np.transpose(npimg, (1, 2, 0)))\n",
        "        plt.title(f\"{classes[labels[i]]}\")\n",
        "        plt.axis('off')\n",
        "    plt.show()\n",
        "\n",
        "# get some random training images.\n",
        "dataiter = iter(trainloader)\n",
        "images, labels = next(dataiter)\n",
        "\n",
        "show_images_labels(images, labels)"
      ]
    },
    {
      "cell_type": "markdown",
      "metadata": {
        "id": "xGyGTqrkjE5j"
      },
      "source": [
        "---\n",
        "\n",
        "## **CNN Architectures Used** <a id=\"CNN-Architectures-Used\"></a>\n",
        "\n",
        "### **What is a CNN?**\n",
        "A **Convolutional Neural Network (CNN)** is a type of deep learning model specifically designed for **image classification and processing**. Unlike traditional neural networks, CNNs use specialized layers to extract spatial and hierarchical features from images.\n",
        "\n",
        "CNNs are widely used in **computer vision tasks**, such as **object detection, facial recognition, and medical imaging**, due to their ability to automatically learn important features from raw pixel data.\n",
        "\n",
        "---\n",
        "\n",
        "### **How Do CNNs Work?**\n",
        "CNNs operate by applying a series of transformations to an input image, gradually extracting meaningful patterns:\n",
        "\n",
        "| **Stage** | **Description** |\n",
        "|-----------|---------------|\n",
        "| **1. Convolution** | Applies **filters (kernels)** to detect patterns like edges and textures. |\n",
        "| **2. Activation Function (ReLU)** | Introduces **non-linearity** to allow the model to learn complex features. |\n",
        "| **3. Pooling (Max/Average)** | Downsamples the feature maps, reducing computation and improving generalization. |\n",
        "| **4. Flattening** | Converts multi-dimensional feature maps into a 1D vector for classification. |\n",
        "| **5. Fully Connected (FC) Layers** | Processes extracted features and makes predictions. |\n",
        "\n",
        "Each layer contributes to making CNNs **highly efficient for image recognition tasks**.\n",
        "\n",
        "---\n",
        "\n",
        "### **CNN Architectures Used in This Project**\n",
        "This tutorial implements and compares two CNN architectures:\n",
        "1. **A Custom CNN model**\n",
        "2. **LeNet-5 (Modified for CIFAR-10)**\n",
        "\n",
        "Both models are trained using **Genetic Algorithms (GA)** instead of conventional gradient-based optimization.\n",
        "\n",
        "---\n",
        "\n",
        "### **Custom CNN Model**\n",
        "The **Custom CNN** is designed specifically for **CIFAR-10 classification**, featuring:\n",
        "- **Two convolutional layers** for hierarchical feature extraction.\n",
        "- **Two pooling layers** to reduce dimensionality.\n",
        "- **Two fully connected layers** for classification.\n",
        "\n",
        "#### ** Model Architecture Breakdown**\n",
        "| **Layer Type**  | **Details** |\n",
        "|-----------------|------------|\n",
        "| **Conv2D (1st Layer)** | 32 filters, kernel size **3x3**, stride **1**, padding **1** |\n",
        "| **Activation**  | ReLU |\n",
        "| **Max Pooling** | Kernel size **2x2**, stride **2** |\n",
        "| **Conv2D (2nd Layer)** | 64 filters, kernel size **3x3**, stride **1**, padding **1** |\n",
        "| **Activation**  | ReLU |\n",
        "| **Max Pooling** | Kernel size **2x2**, stride **2** |\n",
        "| **Flatten**     | Converts feature maps into a 1D vector |\n",
        "| **Fully Connected (FC1)** | 128 neurons, ReLU |\n",
        "| **Dropout**     | 50% dropout to prevent overfitting |\n",
        "| **Fully Connected (FC2 - Output Layer)** | 10 neurons, Log Softmax for classification |\n",
        "\n",
        "---\n",
        "\n",
        "### **LeNet-5 (Modified for CIFAR-10)**\n",
        "LeNet-5 is a **classic CNN architecture** originally designed for handwritten digit recognition (**MNIST**). In this project, it has been **modified to handle CIFAR-10**, which consists of **RGB images** instead of grayscale.\n",
        "\n",
        "#### ** Model Architecture Breakdown**\n",
        "| **Layer Type**  | **Details** |\n",
        "|-----------------|------------|\n",
        "| **Conv2D (1st Layer)** | 6 filters, kernel size **5x5**, padding **2** |\n",
        "| **Activation**  | ReLU |\n",
        "| **Max Pooling** | Kernel size **2x2**, stride **2** |\n",
        "| **Conv2D (2nd Layer)** | 16 filters, kernel size **5x5** |\n",
        "| **Activation**  | ReLU |\n",
        "| **Max Pooling** | Kernel size **2x2**, stride **2** |\n",
        "| **Flatten**     | Converts feature maps into a 1D vector |\n",
        "| **Fully Connected (FC1)** | 120 neurons, ReLU |\n",
        "| **Fully Connected (FC2)** | 84 neurons, ReLU |\n",
        "| **Fully Connected (Output Layer)** | 10 neurons (one per CIFAR-10 class) |\n",
        "\n"
      ]
    },
    {
      "cell_type": "code",
      "execution_count": 31,
      "metadata": {
        "id": "7eQNCDe3jE5j"
      },
      "outputs": [],
      "source": [
        "# Define the CNN model from Source [2] modified so it can be used for CIFAR10 dataset\n",
        "class CNN(nn.Module):\n",
        "    def __init__(self):\n",
        "        super().__init__()\n",
        "        self.conv1 = nn.Conv2d(3, 6, 5)\n",
        "        self.pool = nn.MaxPool2d(2, 2)\n",
        "        self.conv2 = nn.Conv2d(6, 16, 5)\n",
        "        self.fc1 = nn.Linear(16 * 5 * 5, 120)\n",
        "        self.fc2 = nn.Linear(120, 84)\n",
        "        self.fc3 = nn.Linear(84, 10)\n",
        "\n",
        "    def forward(self, x):\n",
        "        x = self.pool(F.relu(self.conv1(x)))\n",
        "        x = self.pool(F.relu(self.conv2(x)))\n",
        "        x = torch.flatten(x, 1)  # Flatten all dimensions except batch\n",
        "        x = F.relu(self.fc1(x))\n",
        "        x = F.relu(self.fc2(x))\n",
        "        x = self.fc3(x)\n",
        "        return x\n",
        "### End of source [2]"
      ]
    },
    {
      "cell_type": "code",
      "execution_count": 32,
      "metadata": {
        "id": "dloh9FnL_Tq8"
      },
      "outputs": [],
      "source": [
        "# #create an instance of the CNN model\n",
        "# testing_model_1 = CNN()\n",
        "\n",
        "# # Define the loss function and optimizer\n",
        "# criterion = nn.CrossEntropyLoss()\n",
        "# optimizer = optim.Adam(testing_model.parameters(), lr=0.001)\n",
        "\n",
        "# # Train the model\n",
        "# start_time = time.time()\n",
        "# train_nn(testing_model_1, trainloader, criterion, optimizer, epochs=5)\n",
        "# end_time = time.time()\n",
        "# print(f\"Training time: {end_time - start_time:.2f} seconds\")"
      ]
    },
    {
      "cell_type": "code",
      "execution_count": 33,
      "metadata": {
        "id": "3d04oSUI_Tq9"
      },
      "outputs": [],
      "source": [
        "class CNN_2(nn.Module):\n",
        "    def __init__(self, num_classes=10, grayscale=False):\n",
        "        super(CNN_2, self).__init__()\n",
        "\n",
        "        # In the init function, we define each layer we will use in our model\n",
        "\n",
        "        # Our images are RGB, so we have input channels = 3.\n",
        "        # We will apply 12 filters in the first convolutional layer\n",
        "        self.conv1 = nn.Conv2d(in_channels=3, out_channels=12, kernel_size=5)\n",
        "\n",
        "        # A second convolutional layer takes 12 input channels, and generates 24 outputs\n",
        "        self.conv2 = nn.Conv2d(in_channels=12, out_channels=24, kernel_size=5)\n",
        "\n",
        "        # We in the end apply max pooling with a kernel size of 2\n",
        "        self.pool = nn.MaxPool2d(kernel_size=2, stride=2)\n",
        "\n",
        "        # A drop layer deletes 20% of the features to help prevent overfitting\n",
        "        self.drop = nn.Dropout2d(p=0.2)\n",
        "\n",
        "        # Our 128x128 image tensors will be pooled twice with a kernel size of 2. 128/2/2 is 32.\n",
        "        # This means that our feature tensors are now 32 x 32, and we've generated 24 of them\n",
        "\n",
        "        # We need to flatten these in order to feed them to a fully-connected layer\n",
        "        self.fc = nn.Linear(in_features=5 * 5 * 24, out_features=num_classes)\n",
        "\n",
        "    def forward(self, x):\n",
        "        # In the forward function, pass the data through the layers we defined in the init function\n",
        "\n",
        "        # Use a ReLU activation function after layer 1 (convolution 1 and pool)\n",
        "        x = F.relu(self.pool(self.conv1(x)))\n",
        "\n",
        "        # Use a ReLU activation function after layer 2\n",
        "        x = F.relu(self.pool(self.conv2(x)))\n",
        "\n",
        "        # Select some features to drop to prevent overfitting (only drop during training)\n",
        "        x = F.dropout(self.drop(x), training=self.training)\n",
        "\n",
        "        # Flatten\n",
        "        x = x.view(-1, 5 * 5 * 24)\n",
        "        # Feed to fully-connected layer to predict class\n",
        "        x = self.fc(x)\n",
        "        # Return class probabilities via a log_softmax function\n",
        "        return torch.log_softmax(x, dim=1)"
      ]
    },
    {
      "cell_type": "code",
      "execution_count": 34,
      "metadata": {
        "id": "JGeZdIRg_Tq9"
      },
      "outputs": [],
      "source": [
        "# #create an instance of the CNN model\n",
        "# testing_model = CNN_2()\n",
        "\n",
        "# # Define the loss function and optimizer\n",
        "# criterion = nn.CrossEntropyLoss()\n",
        "# optimizer = optim.Adam(testing_model.parameters(), lr=0.001)\n",
        "\n",
        "# # Train the model\n",
        "# start_time = time.time()\n",
        "# train_nn(testing_model, trainloader, criterion, optimizer, epochs=5)\n",
        "# end_time = time.time()\n",
        "# print(f\"Training time: {end_time - start_time:.2f} seconds\")"
      ]
    },
    {
      "cell_type": "code",
      "execution_count": 35,
      "metadata": {
        "id": "dckmKkWcjE5k"
      },
      "outputs": [],
      "source": [
        "class LeNet5(nn.Module):\n",
        "    def __init__(self, num_classes=10, grayscale=False):\n",
        "        super(LeNet5, self).__init__()\n",
        "\n",
        "        self.grayscale = grayscale\n",
        "        self.num_classes = num_classes\n",
        "\n",
        "        if self.grayscale:\n",
        "            in_channels = 1\n",
        "        else:\n",
        "            in_channels = 3\n",
        "\n",
        "        self.features = nn.Sequential(\n",
        "\n",
        "            nn.Conv2d(in_channels, 6*in_channels, kernel_size=5),\n",
        "            nn.Tanh(),\n",
        "            nn.MaxPool2d(kernel_size=2),\n",
        "            nn.Conv2d(6*in_channels, 16*in_channels, kernel_size=5),\n",
        "            nn.Tanh(),\n",
        "            nn.MaxPool2d(kernel_size=2)\n",
        "        )\n",
        "\n",
        "        self.classifier = nn.Sequential(\n",
        "            nn.Linear(16*5*5*in_channels, 120*in_channels),\n",
        "            nn.Tanh(),\n",
        "            nn.Linear(120*in_channels, 84*in_channels),\n",
        "            nn.Tanh(),\n",
        "            nn.Linear(84*in_channels, num_classes),\n",
        "        )\n",
        "\n",
        "\n",
        "    def forward(self, x):\n",
        "        x = self.features(x)\n",
        "        x = torch.flatten(x, 1)\n",
        "        logits = self.classifier(x)\n",
        "        probas = F.softmax(logits, dim=1)\n",
        "        return probas\n"
      ]
    },
    {
      "cell_type": "code",
      "execution_count": 36,
      "metadata": {
        "id": "_63QwqRA_Tq9"
      },
      "outputs": [],
      "source": [
        "# #create an instance of the CNN model\n",
        "# # testing_model_lenet = LeNet5()\n",
        "\n",
        "# # Define the loss function and optimizer\n",
        "# criterion = nn.CrossEntropyLoss()\n",
        "# optimizer = optim.Adam(testing_model.parameters(), lr=0.001)\n",
        "\n",
        "# # Train the model\n",
        "# start_time = time.time()\n",
        "# train_nn(testing_model, trainloader, criterion, optimizer, epochs=5)\n",
        "# end_time = time.time()\n",
        "# print(f\"Training time: {end_time - start_time:.2f} seconds\")"
      ]
    },
    {
      "cell_type": "code",
      "execution_count": 37,
      "metadata": {
        "id": "2wMQbEtd_Tq9"
      },
      "outputs": [],
      "source": [
        "# # test_nn(testing_model, testloader, criterion)\n",
        "# print(\"Model accuracy: \", test_nn(testing_model, testloader))\n"
      ]
    },
    {
      "cell_type": "markdown",
      "metadata": {
        "id": "b4qEO6twEoxd"
      },
      "source": [
        "### Key training and testing functions."
      ]
    },
    {
      "cell_type": "code",
      "execution_count": 38,
      "metadata": {
        "id": "JKbYz-QAjE5k"
      },
      "outputs": [],
      "source": [
        "def train_nn(model, trainloader, criterion, optimizer, epochs=2, use_gpu=True, lr_scheduler=False):\n",
        "    \"\"\"\n",
        "    Train a PyTorch CNN model efficiently.\n",
        "\n",
        "    Args:\n",
        "        model: PyTorch model to train.\n",
        "        trainloader: DataLoader containing training data.\n",
        "        criterion: Loss function.\n",
        "        optimizer: Optimizer (Adam, SGD, etc.).\n",
        "        epochs (int, optional): Number of training epochs. Default is 2.\n",
        "        use_gpu (bool, optional): If True, enables GPU acceleration.\n",
        "        lr_scheduler (bool, optional): If True, reduces learning rate when loss stops improving.\n",
        "\n",
        "    Returns:\n",
        "        train_losses: List of training losses over epochs.\n",
        "        train_accuracies: List of training accuracies.\n",
        "        total_training_time: Total training time.\n",
        "    \"\"\"\n",
        "\n",
        "    device = torch.device(\"cuda\" if use_gpu and torch.cuda.is_available() else \"cpu\")\n",
        "    model.to(device)  # Move model to GPU\n",
        "\n",
        "    train_losses = []\n",
        "    train_accuracies = []\n",
        "    total_training_time = 0\n",
        "\n",
        "    # Learning Rate Scheduler\n",
        "    scheduler = torch.optim.lr_scheduler.ReduceLROnPlateau(optimizer, mode='min', patience=2, factor=0.5) if lr_scheduler else None\n",
        "\n",
        "    for epoch in range(epochs):\n",
        "        model.train()\n",
        "        epoch_start_time = time.time()\n",
        "\n",
        "        running_loss = 0.0\n",
        "        correct = 0\n",
        "        total = 0\n",
        "\n",
        "        for inputs, labels in trainloader:\n",
        "            inputs, labels = inputs.to(device), labels.to(device)\n",
        "\n",
        "            optimizer.zero_grad()\n",
        "            outputs = model(inputs)\n",
        "            loss = criterion(outputs, labels)\n",
        "            loss.backward()\n",
        "            optimizer.step()\n",
        "\n",
        "            running_loss += loss.item()\n",
        "            _, predicted = torch.max(outputs, 1)\n",
        "            correct += (predicted == labels).sum().item()\n",
        "            total += labels.size(0)\n",
        "\n",
        "        epoch_loss = running_loss / len(trainloader)\n",
        "        epoch_accuracy = 100 * correct / total\n",
        "        train_losses.append(epoch_loss)\n",
        "        train_accuracies.append(epoch_accuracy)\n",
        "\n",
        "        # Adjust learning rate if using scheduler\n",
        "        if lr_scheduler:\n",
        "            scheduler.step(epoch_loss)\n",
        "\n",
        "        epoch_training_time = time.time() - epoch_start_time\n",
        "        total_training_time += epoch_training_time\n",
        "\n",
        "        print(f\"Epoch {epoch+1}/{epochs} | Loss: {epoch_loss:.4f} | Accuracy: {epoch_accuracy:.2f}% | Time: {epoch_training_time:.2f}s\")\n",
        "\n",
        "    return train_losses, train_accuracies, total_training_time"
      ]
    },
    {
      "cell_type": "code",
      "execution_count": 39,
      "metadata": {
        "id": "QTdnR0qsjE5k"
      },
      "outputs": [],
      "source": [
        "def test_nn(model, testloader, use_gpu=True):\n",
        "    \"\"\"\n",
        "    Efficiently tests the model on all images in the test set and returns overall accuracy.\n",
        "\n",
        "    Args:\n",
        "        testloader: PyTorch DataLoader for test data.\n",
        "        model: Trained PyTorch model.\n",
        "        use_gpu (bool, optional): If True, uses GPU if available. Default is True.\n",
        "\n",
        "    Returns:\n",
        "        overall_accuracy (float): Accuracy of the model on the test set.\n",
        "    \"\"\"\n",
        "    # Select device (GPU if available, otherwise CPU)\n",
        "    device = torch.device(\"cuda\" if use_gpu and torch.cuda.is_available() else \"cpu\")\n",
        "    model.to(device)\n",
        "\n",
        "    model.eval()  # Set model to evaluation mode\n",
        "\n",
        "    correct = 0\n",
        "    total = 0\n",
        "\n",
        "    # Disable gradient computation for efficiency\n",
        "    with torch.no_grad():\n",
        "        for images, labels in testloader:\n",
        "            images, labels = images.to(device), labels.to(device)  # Move data to GPU/CPU\n",
        "            outputs = model(images)\n",
        "            _, predictions = torch.max(outputs, 1)  # Get predicted class\n",
        "\n",
        "            # Update total and correct predictions\n",
        "            total += labels.size(0)\n",
        "            correct += (predictions == labels).sum().item()\n",
        "\n",
        "    # Compute overall accuracy\n",
        "    overall_accuracy = 100 * correct / total\n",
        "\n",
        "    # print(f\"Overall Model Accuracy: {overall_accuracy:.2f}%\")\n",
        "    return overall_accuracy\n"
      ]
    },
    {
      "cell_type": "code",
      "execution_count": 40,
      "metadata": {
        "id": "WB_F7p2NjE5k"
      },
      "outputs": [],
      "source": [
        "def test_4_random_images(testloader, model, classes, use_gpu=True):\n",
        "    \"\"\"\n",
        "    Visually tests the model on 4 random images from the test set and computes approximate accuracy.\n",
        "\n",
        "    Args:\n",
        "        testloader: PyTorch DataLoader for test data.\n",
        "        model: Trained PyTorch model.\n",
        "        classes: List of class labels.\n",
        "        use_gpu (bool, optional): Whether to use GPU if available.\n",
        "\n",
        "    Returns:\n",
        "        accuracy (float): Model accuracy on the 4 randomly selected images.\n",
        "    \"\"\"\n",
        "    device = torch.device(\"cuda\" if use_gpu and torch.cuda.is_available() else \"cpu\")\n",
        "    model.to(device)  # Move model to GPU\n",
        "    model.eval()  # Set model to evaluation mode\n",
        "\n",
        "    # Get a random batch from the testloader\n",
        "    dataiter = iter(testloader)\n",
        "    images, labels = next(dataiter)\n",
        "\n",
        "    # Select 4 random indices from the batch\n",
        "    indices = random.sample(range(len(images)), 4)\n",
        "    selected_images = images[indices]\n",
        "    selected_labels = labels[indices]\n",
        "\n",
        "    # Move data to GPU if available\n",
        "    selected_images, selected_labels = selected_images.to(device), selected_labels.to(device)\n",
        "\n",
        "    # Get model predictions\n",
        "    with torch.no_grad():\n",
        "        outputs = model(selected_images)\n",
        "        _, predicted = torch.max(outputs, 1)\n",
        "\n",
        "    # Compute accuracy\n",
        "    correct = (predicted == selected_labels).sum().item()\n",
        "    accuracy = correct / len(selected_labels) * 100\n",
        "\n",
        "    # Display images with labels and predictions\n",
        "    show_images_labels(selected_images.cpu(), selected_labels.cpu())\n",
        "    print('Predicted:   ', ' '.join(f'{classes[predicted[j]]:5s}' for j in range(4)))\n",
        "    print(f'Accuracy on these 4 images: {accuracy:.2f}%')\n",
        "\n",
        "    return accuracy"
      ]
    },
    {
      "cell_type": "code",
      "execution_count": 41,
      "metadata": {
        "id": "lk2tph7OjE5l"
      },
      "outputs": [],
      "source": [
        "def test_nn_per_class(testloader, model, classes, use_gpu=True):\n",
        "    \"\"\"\n",
        "    Efficiently tests the model on all images in the test set and returns per-class accuracy.\n",
        "\n",
        "    Args:\n",
        "        testloader: PyTorch DataLoader for test data.\n",
        "        model: Trained PyTorch model.\n",
        "        classes: List of class labels.\n",
        "        use_gpu (bool, optional): If True, uses GPU if available. Default is True.\n",
        "\n",
        "    Returns:\n",
        "        class_accuracies (dict): Dictionary containing accuracy for each class.\n",
        "    \"\"\"\n",
        "    # Select device (GPU if available, otherwise CPU)\n",
        "    device = torch.device(\"cuda\" if use_gpu and torch.cuda.is_available() else \"cpu\")\n",
        "    model.to(device)\n",
        "    model.eval()  # Set model to evaluation mode\n",
        "\n",
        "    # Prepare to count predictions for each class\n",
        "    correct_pred = {classname: 0 for classname in classes}\n",
        "    total_pred = {classname: 0 for classname in classes}\n",
        "\n",
        "    # Disable gradient computation for efficiency\n",
        "    with torch.no_grad():\n",
        "        for images, labels in testloader:\n",
        "            images, labels = images.to(device), labels.to(device)  # Move data to GPU/CPU\n",
        "            outputs = model(images)\n",
        "            _, predictions = torch.max(outputs, 1)  # Get predicted class\n",
        "\n",
        "            # Update per-class statistics\n",
        "            for label, prediction in zip(labels, predictions):\n",
        "                total_pred[classes[label.item()]] += 1  # Count total instances of each class\n",
        "                if label == prediction:\n",
        "                    correct_pred[classes[label.item()]] += 1  # Count correct predictions\n",
        "\n",
        "    # Compute per-class accuracy\n",
        "    class_accuracies = {\n",
        "        classname: (100 * correct_pred[classname] / total_pred[classname]) if total_pred[classname] > 0 else 0.0\n",
        "        for classname in classes\n",
        "    }\n",
        "\n",
        "    print(\"Finished per-class testing.\")\n",
        "    return class_accuracies\n"
      ]
    },
    {
      "cell_type": "markdown",
      "metadata": {
        "id": "YXVzTJeLjE5l"
      },
      "source": [
        "---\n",
        "\n",
        "## **Implementing Genetic Algorithm for CNN Training** <a id=\"Implementing-Genetic-Algorithm-for-CNN-Training\"></a>\n",
        "*implementation of selection, mutation, and crossover for CNN weight optimization.*"
      ]
    },
    {
      "cell_type": "code",
      "execution_count": 42,
      "metadata": {
        "id": "r4Lmvp43jE5l"
      },
      "outputs": [],
      "source": [
        "def compute_fitness(criterion, model, optimizer, trainloader, testloader, epochs):\n",
        "    \"\"\"\n",
        "    Computes the fitness of a model by training and evaluating its accuracy.\n",
        "\n",
        "    Args:\n",
        "        criterion: Loss function.\n",
        "        model: PyTorch model to train and evaluate.\n",
        "        optimizer: Optimizer (Adam, SGD, etc.).\n",
        "        trainloader: DataLoader containing training data.\n",
        "        testloader: DataLoader containing test data.\n",
        "        epochs (int): Number of training epochs.\n",
        "\n",
        "    Returns:\n",
        "        test_accuracy (float): Accuracy of the model on the test set.\n",
        "    \"\"\"\n",
        "    # Train the model\n",
        "    # train_nn(model, trainloader, criterion, optimizer, epochs)\n",
        "\n",
        "    # Test the model\n",
        "    test_accuracy = test_nn(testloader, model)\n",
        "    return test_accuracy"
      ]
    },
    {
      "cell_type": "code",
      "execution_count": 43,
      "metadata": {
        "id": "gjU4vjMsjE5l"
      },
      "outputs": [],
      "source": [
        "# write a function to initialise the population\n",
        "def initialise_population(population_size, model_class):\n",
        "    \"\"\"\n",
        "    Initializes a population of models.\n",
        "\n",
        "    Args:\n",
        "        population_size (int): Number of models in the population.\n",
        "        model_class (class): The class of the model to be instantiated.\n",
        "\n",
        "    Returns:\n",
        "        population (list): List of instantiated models.\n",
        "    \"\"\"\n",
        "    population = []\n",
        "    for i in range(population_size):\n",
        "        model = model_class()\n",
        "        population.append(model)\n",
        "    return population"
      ]
    },
    {
      "cell_type": "code",
      "execution_count": 44,
      "metadata": {
        "id": "-NjfAdmUjE5l"
      },
      "outputs": [],
      "source": [
        "# write the function to perform the crossover operation\n",
        "def crossover(parent1, parent2, use_gpu=True):\n",
        "    \"\"\"\n",
        "    Performs crossover operation between two parent models to produce two child models.\n",
        "\n",
        "    Args:\n",
        "        parent1: First parent model (CNN or LeNet5).\n",
        "        parent2: Second parent model (CNN or LeNet5).\n",
        "        use_gpu (bool, optional): If True, uses GPU if available. Default is True.\n",
        "\n",
        "    Returns:\n",
        "        child1: First child model.\n",
        "        child2: Second child model.\n",
        "    \"\"\"\n",
        "    device = torch.device(\"cuda\" if use_gpu and torch.cuda.is_available() else \"cpu\")\n",
        "\n",
        "    if isinstance(parent1, CNN) and isinstance(parent2, CNN):\n",
        "        # Initialize child models\n",
        "        child1 = CNN().to(device)\n",
        "        child2 = CNN().to(device)\n",
        "\n",
        "        # Perform crossover on the convolutional layers\n",
        "        child1.conv1.weight.data = torch.cat((parent1.conv1.weight.data[:16], parent2.conv1.weight.data[16:]), dim=0).to(device)\n",
        "        child2.conv1.weight.data = torch.cat((parent2.conv1.weight.data[:16], parent1.conv1.weight.data[16:]), dim=0).to(device)\n",
        "\n",
        "        # Perform crossover on the fully connected layers\n",
        "        child1.fc1.weight.data = torch.cat((parent1.fc1.weight.data[:64], parent2.fc1.weight.data[64:]), dim=0).to(device)\n",
        "        child2.fc1.weight.data = torch.cat((parent2.fc1.weight.data[:64], parent1.fc1.weight.data[64:]), dim=0).to(device)\n",
        "\n",
        "    elif isinstance(parent1, LeNet5) and isinstance(parent2, LeNet5):\n",
        "        # Initialize child models\n",
        "        child1 = LeNet5(num_classes=10).to(device)\n",
        "        child2 = LeNet5(num_classes=10).to(device)\n",
        "\n",
        "        # Perform crossover on the convolutional layers\n",
        "        child1.features[0].weight.data = torch.cat((parent1.features[0].weight.data[:3], parent2.features[0].weight.data[3:]), dim=0).to(device)\n",
        "        child2.features[0].weight.data = torch.cat((parent2.features[0].weight.data[:3], parent1.features[0].weight.data[3:]), dim=0).to(device)\n",
        "\n",
        "        # Perform crossover on the fully connected layers\n",
        "        child1.classifier[0].weight.data = torch.cat((parent1.classifier[0].weight.data[:60], parent2.classifier[0].weight.data[60:]), dim=0).to(device)\n",
        "        child2.classifier[0].weight.data = torch.cat((parent2.classifier[0].weight.data[:60], parent1.classifier[0].weight.data[60:]), dim=0).to(device)\n",
        "\n",
        "    else:\n",
        "        raise ValueError(\"Unsupported model types for crossover\")\n",
        "\n",
        "    return child1, child2"
      ]
    },
    {
      "cell_type": "code",
      "execution_count": 45,
      "metadata": {
        "id": "2VTRzKB_jE5l"
      },
      "outputs": [],
      "source": [
        "# write the function to perform the mutation operation\n",
        "def mutate(model, mutation_rate, use_gpu=True):\n",
        "    \"\"\"\n",
        "    Applies mutation to the model parameters by adding random noise.\n",
        "\n",
        "    Args:\n",
        "        model: PyTorch model to mutate.\n",
        "        mutation_rate (float): Probability of mutation for each parameter.\n",
        "        use_gpu (bool, optional): If True, uses GPU if available. Default is True.\n",
        "\n",
        "    Returns:\n",
        "        model: Mutated PyTorch model.\n",
        "    \"\"\"\n",
        "    device = torch.device(\"cuda\" if use_gpu and torch.cuda.is_available() else \"cpu\")\n",
        "    model.to(device)  # Move model to GPU if available\n",
        "\n",
        "    for param in model.parameters():\n",
        "        if torch.rand(1).item() < mutation_rate:  # Check if mutation should be applied\n",
        "            param.data += torch.randn(param.data.size()).to(device) * 0.1  # Add random noise to the parameter\n",
        "\n",
        "    return model"
      ]
    },
    {
      "cell_type": "code",
      "execution_count": 46,
      "metadata": {
        "id": "to0yv8dyjE5l"
      },
      "outputs": [],
      "source": [
        "def run_genetic_algorithm(model_class, criterion, population_size, generations, trainloader, testloader, epochs, mutation_rate, use_gpu=True):\n",
        "    \"\"\"\n",
        "    Runs a Genetic Algorithm (GA) to optimize a neural network model.\n",
        "\n",
        "    Args:\n",
        "        population_size (int): Number of models in the population.\n",
        "        generations (int): Number of generations to evolve.\n",
        "        trainloader: PyTorch DataLoader for training data.\n",
        "        testloader: PyTorch DataLoader for test data.\n",
        "        epochs (int): Number of epochs for fitness evaluation.\n",
        "        mutation_rate (float): Probability of mutation.\n",
        "\n",
        "    Returns:\n",
        "        results (dict): Dictionary containing:\n",
        "            - 'best_model': Best model from the final generation.\n",
        "            - 'generation_times': List of time taken for each generation.\n",
        "            - 'best_accuracies': List of best accuracies from each generation.\n",
        "    \"\"\"\n",
        "\n",
        "\n",
        "    # Initialize the population\n",
        "    population = initialise_population(population_size, model_class)\n",
        "\n",
        "    # Tracking metrics\n",
        "    generation_times = []\n",
        "    best_accuracies = []\n",
        "\n",
        "    # Start Genetic Algorithm process\n",
        "    for generation in range(generations):\n",
        "        print(f\"\\nGeneration {generation + 1}\")\n",
        "\n",
        "        best_accuracy = 0\n",
        "        best_model = None\n",
        "        fitness_scores = np.zeros(population_size)  # Preallocate array for fitness scores\n",
        "\n",
        "        # Start timer for the generation\n",
        "        start_time = time.time()\n",
        "\n",
        "        # Evaluate fitness for each model\n",
        "        for i, model in enumerate(population):\n",
        "            optimizer = optim.SGD(model.parameters(), lr=0.001, momentum=0.9)  # Define optimizer\n",
        "            fitness = compute_fitness(criterion, model, optimizer, trainloader, testloader,epochs)\n",
        "            fitness_scores[i] = fitness\n",
        "\n",
        "            if fitness > best_accuracy:\n",
        "                best_accuracy = fitness\n",
        "                best_model = model\n",
        "\n",
        "        # End timer for the generation\n",
        "        end_time = time.time()\n",
        "        generation_time = end_time - start_time\n",
        "\n",
        "        # Store time and best accuracy for visualization\n",
        "        generation_times.append(generation_time)\n",
        "        best_accuracies.append(best_accuracy)\n",
        "\n",
        "        print(f'Best accuracy in generation {generation + 1} = {best_accuracy:.4f}')\n",
        "        print(f'Time taken for generation {generation + 1}: {generation_time:.2f} seconds')\n",
        "\n",
        "        # **Parent Selection**\n",
        "        top_indices = np.argsort(fitness_scores)[-population_size // 2:]  # Get top 50%\n",
        "        selected_parents = [population[i] for i in top_indices]\n",
        "\n",
        "        next_generation = []\n",
        "\n",
        "        # **Crossover & Mutation**\n",
        "        for i in range(0, len(selected_parents), 2):\n",
        "            parent1 = selected_parents[i]\n",
        "            parent2 = selected_parents[i + 1]\n",
        "\n",
        "            # Perform crossover\n",
        "            child1, child2 = crossover(parent1, parent2)\n",
        "\n",
        "            # Apply mutation\n",
        "            mutate(child1, mutation_rate)\n",
        "            mutate(child2, mutation_rate)\n",
        "\n",
        "            next_generation.append(child1)\n",
        "            next_generation.append(child2)\n",
        "\n",
        "        # Ensure the population size remains constant\n",
        "        population = next_generation[:population_size]\n",
        "\n",
        "    # **Return the best model and collected data for visualization**\n",
        "    results = {\n",
        "        \"best_model\": best_model,\n",
        "        \"generation_times\": generation_times,\n",
        "        \"best_accuracies\": best_accuracies\n",
        "    }\n",
        "\n",
        "    return results\n"
      ]
    },
    {
      "cell_type": "markdown",
      "metadata": {
        "id": "Js4dzdoGjE5m"
      },
      "source": [
        "---\n",
        "## **Comparing CNNs Trained Using Genetic Algorithms** <a id=\"Comparing-CNNs-Trained-Using-Genetic-Algorithms\"></a>\n",
        "*Analyzing accuracy, training time, and performance trends across generations.*\n"
      ]
    },
    {
      "cell_type": "code",
      "execution_count": 47,
      "metadata": {
        "colab": {
          "base_uri": "https://localhost:8080/"
        },
        "id": "ONh1j5vUyjWu",
        "outputId": "96f2c1e0-0627-49f0-bfa8-5f60662136ac"
      },
      "outputs": [
        {
          "output_type": "stream",
          "name": "stdout",
          "text": [
            "Number of classes: 10\n",
            "Number of training images: 50000\n",
            "Number of test images: 10000\n"
          ]
        }
      ],
      "source": [
        "#print the system stats that the models will be trained on such as the number of classes and the number of images in the training and test sets\n",
        "print(f\"Number of classes: {len(classes)}\")\n",
        "print(f\"Number of training images: {len(trainloader.dataset)}\")\n",
        "print(f\"Number of test images: {len(testloader.dataset)}\")"
      ]
    },
    {
      "cell_type": "code",
      "execution_count": 48,
      "metadata": {
        "id": "sGg_CjvmyjWv"
      },
      "outputs": [],
      "source": [
        "#Global variables used on all models to keep comparisions fair\n",
        "#genetic algorithm parameters\n",
        "GENERATIONS = 4\n",
        "POPULATION_SIZE = GENERATIONS * 2\n",
        "MUTATION_RATE = 0.1\n",
        "\n",
        "#training parameters\n",
        "EPOCHS = 5\n",
        "USE_GPU = True\n",
        "CRITERION = nn.CrossEntropyLoss()"
      ]
    },
    {
      "cell_type": "markdown",
      "metadata": {
        "id": "4ojw2CaijE5m"
      },
      "source": [
        "### Base model results\n"
      ]
    },
    {
      "cell_type": "code",
      "execution_count": 50,
      "metadata": {
        "id": "fHiSFaQg_TrA",
        "outputId": "92c849a1-301b-4be0-e82a-9c27fd107f25",
        "colab": {
          "base_uri": "https://localhost:8080/"
        }
      },
      "outputs": [
        {
          "output_type": "stream",
          "name": "stdout",
          "text": [
            "Epoch 1/5 | Loss: 1.5278 | Accuracy: 44.48% | Time: 43.04s\n",
            "Epoch 2/5 | Loss: 1.2905 | Accuracy: 54.11% | Time: 41.64s\n",
            "Epoch 3/5 | Loss: 1.1991 | Accuracy: 57.71% | Time: 41.83s\n",
            "Epoch 4/5 | Loss: 1.1372 | Accuracy: 60.06% | Time: 42.13s\n",
            "Epoch 5/5 | Loss: 1.0844 | Accuracy: 61.85% | Time: 41.81s\n",
            "Training time: 210.62 seconds\n"
          ]
        }
      ],
      "source": [
        "#create an instance of the CNN model\n",
        "testing_model = CNN()\n",
        "\n",
        "# Define the loss function and optimizer\n",
        "criterion = nn.CrossEntropyLoss()\n",
        "optimizer = optim.Adam(testing_model.parameters(), lr=0.001)\n",
        "\n",
        "# Train the model\n",
        "start_time = time.time()\n",
        "train_nn(testing_model,trainloader, criterion, optimizer, 5)\n",
        "end_time = time.time()\n",
        "print(f\"Training time: {end_time - start_time:.2f} seconds\")"
      ]
    },
    {
      "cell_type": "code",
      "execution_count": 51,
      "metadata": {
        "colab": {
          "base_uri": "https://localhost:8080/"
        },
        "id": "JOlO1yyyjE5m",
        "outputId": "f1920d27-3610-48f6-8788-5acdc82330be"
      },
      "outputs": [
        {
          "output_type": "stream",
          "name": "stdout",
          "text": [
            "\n",
            "Training Base CNN...\n",
            "Epoch 1/10 | Loss: 1.5212 | Accuracy: 44.39% | Time: 41.57s\n",
            "Epoch 2/10 | Loss: 1.2558 | Accuracy: 55.82% | Time: 41.88s\n",
            "Epoch 3/10 | Loss: 1.1547 | Accuracy: 59.43% | Time: 42.42s\n",
            "Epoch 4/10 | Loss: 1.0852 | Accuracy: 62.12% | Time: 42.13s\n",
            "Epoch 5/10 | Loss: 1.0369 | Accuracy: 63.71% | Time: 41.76s\n",
            "Epoch 6/10 | Loss: 1.0024 | Accuracy: 64.97% | Time: 41.86s\n",
            "Epoch 7/10 | Loss: 0.9689 | Accuracy: 66.41% | Time: 41.89s\n",
            "Epoch 8/10 | Loss: 0.9452 | Accuracy: 67.22% | Time: 41.81s\n",
            "Epoch 9/10 | Loss: 0.9198 | Accuracy: 68.11% | Time: 41.99s\n",
            "Epoch 10/10 | Loss: 0.9000 | Accuracy: 68.63% | Time: 42.27s\n",
            "Base CNN Final Accuracy: 63.04%\n",
            "Base CNN Training Time: 419.59 seconds\n",
            "\n",
            "\n",
            "Training Base 2...\n",
            "Epoch 1/10 | Loss: 1.7240 | Accuracy: 36.65% | Time: 40.14s\n",
            "Epoch 2/10 | Loss: 1.5819 | Accuracy: 42.49% | Time: 39.85s\n",
            "Epoch 3/10 | Loss: 1.5203 | Accuracy: 45.30% | Time: 39.07s\n",
            "Epoch 4/10 | Loss: 1.4611 | Accuracy: 47.76% | Time: 38.94s\n",
            "Epoch 5/10 | Loss: 1.4379 | Accuracy: 49.10% | Time: 38.96s\n",
            "Epoch 6/10 | Loss: 1.4194 | Accuracy: 49.67% | Time: 39.08s\n",
            "Epoch 7/10 | Loss: 1.4029 | Accuracy: 50.30% | Time: 38.46s\n",
            "Epoch 8/10 | Loss: 1.3988 | Accuracy: 50.08% | Time: 38.68s\n",
            "Epoch 9/10 | Loss: 1.3931 | Accuracy: 50.92% | Time: 39.37s\n",
            "Epoch 10/10 | Loss: 1.3918 | Accuracy: 50.74% | Time: 38.54s\n",
            "Base 2 Final Accuracy: 57.90%\n",
            "Base 2 Training Time: 391.09 seconds\n",
            "\n",
            "\n",
            "Training LeNet-5...\n",
            "Epoch 1/10 | Loss: 2.1530 | Accuracy: 29.93% | Time: 42.67s\n",
            "Epoch 2/10 | Loss: 2.0836 | Accuracy: 37.13% | Time: 42.96s\n",
            "Epoch 3/10 | Loss: 2.0636 | Accuracy: 39.18% | Time: 42.52s\n",
            "Epoch 4/10 | Loss: 2.0533 | Accuracy: 40.26% | Time: 41.99s\n",
            "Epoch 5/10 | Loss: 2.0461 | Accuracy: 40.99% | Time: 42.92s\n",
            "Epoch 6/10 | Loss: 2.0438 | Accuracy: 41.13% | Time: 42.23s\n",
            "Epoch 7/10 | Loss: 2.0329 | Accuracy: 42.40% | Time: 42.32s\n",
            "Epoch 8/10 | Loss: 2.0321 | Accuracy: 42.35% | Time: 43.67s\n",
            "Epoch 9/10 | Loss: 2.0333 | Accuracy: 42.32% | Time: 42.30s\n",
            "Epoch 10/10 | Loss: 2.0256 | Accuracy: 43.12% | Time: 42.69s\n",
            "LeNet-5 Final Accuracy: 42.17%\n",
            "LeNet-5 Training Time: 426.28 seconds\n",
            "\n"
          ]
        }
      ],
      "source": [
        "# Initialize base models\n",
        "models = {\n",
        "    \"Base CNN\": CNN(),\n",
        "    \"Base 2\": CNN_2(),\n",
        "    \"LeNet-5\": LeNet5()\n",
        "}\n",
        "\n",
        "# Define loss function\n",
        "criterion = nn.CrossEntropyLoss()\n",
        "\n",
        "# Store results\n",
        "results = {}\n",
        "\n",
        "# Train and test each model\n",
        "for model_name, model in models.items():\n",
        "    print(f\"\\nTraining {model_name}...\")\n",
        "\n",
        "    # Define optimizer\n",
        "    optimizer = optim.Adam(model.parameters(), lr=0.001)\n",
        "\n",
        "    # Train model\n",
        "    train_losses, train_accuracies, training_time = train_nn(model, trainloader, criterion, optimizer, epochs=10)\n",
        "\n",
        "    # Test model\n",
        "    final_accuracy = test_nn(model, testloader, use_gpu=USE_GPU)\n",
        "\n",
        "    # Store results\n",
        "    results[model_name] = {\n",
        "        \"train_losses\": train_losses,\n",
        "        \"train_accuracies\": train_accuracies,\n",
        "        \"final_test_accuracy\": final_accuracy,\n",
        "        \"total_training_time\": training_time\n",
        "    }\n",
        "\n",
        "    # Print results\n",
        "    print(f\"{model_name} Final Accuracy: {final_accuracy:.2f}%\")\n",
        "    print(f\"{model_name} Training Time: {training_time:.2f} seconds\\n\")\n",
        "\n"
      ]
    },
    {
      "cell_type": "code",
      "execution_count": 52,
      "metadata": {
        "colab": {
          "base_uri": "https://localhost:8080/",
          "height": 1000
        },
        "id": "INxK37ioyjWw",
        "outputId": "043638d7-6165-4201-beda-e9fcae37c78b"
      },
      "outputs": [
        {
          "output_type": "display_data",
          "data": {
            "text/plain": [
              "<Figure size 1000x500 with 1 Axes>"
            ],
            "image/png": "[encoded data removed]"
          },
          "metadata": {}
        },
        {
          "output_type": "display_data",
          "data": {
            "text/plain": [
              "<Figure size 1000x500 with 1 Axes>"
            ],
            "image/png": "[encoded data removed]"
          },
          "metadata": {}
        },
        {
          "output_type": "display_data",
          "data": {
            "text/plain": [
              "<Figure size 1000x500 with 2 Axes>"
            ],
            "image/png": "[encoded data removed]"
          },
          "metadata": {}
        }
      ],
      "source": [
        "# Extracting results for plotting\n",
        "train_losses = {name: results[name][\"train_losses\"] for name in models}\n",
        "train_accuracies = {name: results[name][\"train_accuracies\"] for name in models}\n",
        "final_accuracies = {name: results[name][\"final_test_accuracy\"] for name in models}\n",
        "training_times = {name: results[name][\"total_training_time\"] for name in models}\n",
        "\n",
        "# Plot Training Loss Progression\n",
        "plt.figure(figsize=(10, 5))\n",
        "for model_name, losses in train_losses.items():\n",
        "    plt.plot(range(1, len(losses) + 1), losses, label=model_name, marker=\"o\", linestyle=\"-\")\n",
        "\n",
        "plt.xlabel(\"Epochs\")\n",
        "plt.ylabel(\"Training Loss\")\n",
        "plt.title(\"Training Loss Comparison: CNN vs. LeNet-5\")\n",
        "plt.legend()\n",
        "plt.grid(True)\n",
        "plt.show()\n",
        "\n",
        "# Plot Training Accuracy Progression\n",
        "plt.figure(figsize=(10, 5))\n",
        "for model_name, accuracies in train_accuracies.items():\n",
        "    plt.plot(range(1, len(accuracies) + 1), accuracies, label=model_name, marker=\"s\", linestyle=\"--\")\n",
        "\n",
        "plt.xlabel(\"Epochs\")\n",
        "plt.ylabel(\"Training Accuracy (%)\")\n",
        "plt.title(\"Training Accuracy Comparison: CNN vs. LeNet-5\")\n",
        "plt.legend()\n",
        "plt.grid(True)\n",
        "plt.show()\n",
        "\n",
        "# Plot Training Time and Accuracy Comparison\n",
        "fig, ax1 = plt.subplots(figsize=(10, 5))\n",
        "\n",
        "# Bar chart for accuracy\n",
        "ax1.bar(final_accuracies.keys(), final_accuracies.values(), color=['blue', 'red'], alpha=0.6, label=\"Final Accuracy\")\n",
        "ax1.set_ylabel(\"Accuracy (%)\")\n",
        "ax1.set_ylim(0, 100)\n",
        "\n",
        "# Line plot for training time\n",
        "ax2 = ax1.twinx()\n",
        "ax2.plot(training_times.keys(), training_times.values(), marker=\"o\", color=\"green\", label=\"Training Time\")\n",
        "ax2.set_ylabel(\"Training Time (seconds)\")\n",
        "\n",
        "# Labels and title\n",
        "plt.title(\"Model Comparison: Accuracy & Training Time\")\n",
        "ax1.legend(loc=\"upper left\")\n",
        "ax2.legend(loc=\"upper right\")\n",
        "plt.grid(True)\n",
        "plt.show()"
      ]
    },
    {
      "cell_type": "code",
      "execution_count": 53,
      "metadata": {
        "id": "PdFGvagRyjWw"
      },
      "outputs": [],
      "source": [
        "#save the models after they have been trained\n",
        "torch.save(models[\"Base CNN\"].state_dict(), \"base_cnn.pth\")\n",
        "torch.save(models[\"LeNet-5\"].state_dict(), \"lenet5.pth\")"
      ]
    },
    {
      "cell_type": "markdown",
      "metadata": {
        "id": "N1F80YAijE5n"
      },
      "source": [
        "### Genetic algorithm results"
      ]
    },
    {
      "cell_type": "code",
      "execution_count": 54,
      "metadata": {
        "colab": {
          "base_uri": "https://localhost:8080/",
          "height": 408
        },
        "id": "M2h-lV53jE5n",
        "outputId": "f3f94645-2ca3-462a-b7dc-f8ab1d16e025"
      },
      "outputs": [
        {
          "output_type": "stream",
          "name": "stdout",
          "text": [
            "\n",
            "Running Genetic Algorithm for Base CNN...\n",
            "\n",
            "Generation 1\n"
          ]
        },
        {
          "output_type": "error",
          "ename": "AttributeError",
          "evalue": "'DataLoader' object has no attribute 'to'",
          "traceback": [
            "\u001b[0;31m---------------------------------------------------------------------------\u001b[0m",
            "\u001b[0;31mAttributeError\u001b[0m                            Traceback (most recent call last)",
            "\u001b[0;32m<ipython-input-54-b6c903ae1e02>\u001b[0m in \u001b[0;36m<cell line: 0>\u001b[0;34m()\u001b[0m\n\u001b[1;32m     12\u001b[0m \u001b[0;34m\u001b[0m\u001b[0m\n\u001b[1;32m     13\u001b[0m     \u001b[0;31m# Run GA for this model\u001b[0m\u001b[0;34m\u001b[0m\u001b[0;34m\u001b[0m\u001b[0m\n\u001b[0;32m---> 14\u001b[0;31m     \u001b[0mga_results\u001b[0m\u001b[0;34m[\u001b[0m\u001b[0mmodel_name\u001b[0m\u001b[0;34m]\u001b[0m \u001b[0;34m=\u001b[0m \u001b[0mrun_genetic_algorithm\u001b[0m\u001b[0;34m(\u001b[0m\u001b[0mmodel_class\u001b[0m\u001b[0;34m,\u001b[0m \u001b[0mCRITERION\u001b[0m\u001b[0;34m,\u001b[0m \u001b[0mPOPULATION_SIZE\u001b[0m\u001b[0;34m,\u001b[0m \u001b[0mGENERATIONS\u001b[0m\u001b[0;34m,\u001b[0m \u001b[0mtrainloader\u001b[0m\u001b[0;34m,\u001b[0m \u001b[0mtestloader\u001b[0m\u001b[0;34m,\u001b[0m \u001b[0mepochs\u001b[0m\u001b[0;34m=\u001b[0m\u001b[0mEPOCHS\u001b[0m\u001b[0;34m,\u001b[0m \u001b[0mmutation_rate\u001b[0m\u001b[0;34m=\u001b[0m\u001b[0mMUTATION_RATE\u001b[0m\u001b[0;34m)\u001b[0m\u001b[0;34m\u001b[0m\u001b[0;34m\u001b[0m\u001b[0m\n\u001b[0m",
            "\u001b[0;32m<ipython-input-46-1742031a05b3>\u001b[0m in \u001b[0;36mrun_genetic_algorithm\u001b[0;34m(model_class, criterion, population_size, generations, trainloader, testloader, epochs, mutation_rate, use_gpu)\u001b[0m\n\u001b[1;32m     40\u001b[0m         \u001b[0;32mfor\u001b[0m \u001b[0mi\u001b[0m\u001b[0;34m,\u001b[0m \u001b[0mmodel\u001b[0m \u001b[0;32min\u001b[0m \u001b[0menumerate\u001b[0m\u001b[0;34m(\u001b[0m\u001b[0mpopulation\u001b[0m\u001b[0;34m)\u001b[0m\u001b[0;34m:\u001b[0m\u001b[0;34m\u001b[0m\u001b[0;34m\u001b[0m\u001b[0m\n\u001b[1;32m     41\u001b[0m             \u001b[0moptimizer\u001b[0m \u001b[0;34m=\u001b[0m \u001b[0moptim\u001b[0m\u001b[0;34m.\u001b[0m\u001b[0mSGD\u001b[0m\u001b[0;34m(\u001b[0m\u001b[0mmodel\u001b[0m\u001b[0;34m.\u001b[0m\u001b[0mparameters\u001b[0m\u001b[0;34m(\u001b[0m\u001b[0;34m)\u001b[0m\u001b[0;34m,\u001b[0m \u001b[0mlr\u001b[0m\u001b[0;34m=\u001b[0m\u001b[0;36m0.001\u001b[0m\u001b[0;34m,\u001b[0m \u001b[0mmomentum\u001b[0m\u001b[0;34m=\u001b[0m\u001b[0;36m0.9\u001b[0m\u001b[0;34m)\u001b[0m  \u001b[0;31m# Define optimizer\u001b[0m\u001b[0;34m\u001b[0m\u001b[0;34m\u001b[0m\u001b[0m\n\u001b[0;32m---> 42\u001b[0;31m             \u001b[0mfitness\u001b[0m \u001b[0;34m=\u001b[0m \u001b[0mcompute_fitness\u001b[0m\u001b[0;34m(\u001b[0m\u001b[0mcriterion\u001b[0m\u001b[0;34m,\u001b[0m \u001b[0mmodel\u001b[0m\u001b[0;34m,\u001b[0m \u001b[0moptimizer\u001b[0m\u001b[0;34m,\u001b[0m \u001b[0mtrainloader\u001b[0m\u001b[0;34m,\u001b[0m \u001b[0mtestloader\u001b[0m\u001b[0;34m,\u001b[0m\u001b[0mepochs\u001b[0m\u001b[0;34m)\u001b[0m\u001b[0;34m\u001b[0m\u001b[0;34m\u001b[0m\u001b[0m\n\u001b[0m\u001b[1;32m     43\u001b[0m             \u001b[0mfitness_scores\u001b[0m\u001b[0;34m[\u001b[0m\u001b[0mi\u001b[0m\u001b[0;34m]\u001b[0m \u001b[0;34m=\u001b[0m \u001b[0mfitness\u001b[0m\u001b[0;34m\u001b[0m\u001b[0;34m\u001b[0m\u001b[0m\n\u001b[1;32m     44\u001b[0m \u001b[0;34m\u001b[0m\u001b[0m\n",
            "\u001b[0;32m<ipython-input-42-9c7eb3d28967>\u001b[0m in \u001b[0;36mcompute_fitness\u001b[0;34m(criterion, model, optimizer, trainloader, testloader, epochs)\u001b[0m\n\u001b[1;32m     18\u001b[0m \u001b[0;34m\u001b[0m\u001b[0m\n\u001b[1;32m     19\u001b[0m     \u001b[0;31m# Test the model\u001b[0m\u001b[0;34m\u001b[0m\u001b[0;34m\u001b[0m\u001b[0m\n\u001b[0;32m---> 20\u001b[0;31m     \u001b[0mtest_accuracy\u001b[0m \u001b[0;34m=\u001b[0m \u001b[0mtest_nn\u001b[0m\u001b[0;34m(\u001b[0m\u001b[0mtestloader\u001b[0m\u001b[0;34m,\u001b[0m \u001b[0mmodel\u001b[0m\u001b[0;34m)\u001b[0m\u001b[0;34m\u001b[0m\u001b[0;34m\u001b[0m\u001b[0m\n\u001b[0m\u001b[1;32m     21\u001b[0m     \u001b[0;32mreturn\u001b[0m \u001b[0mtest_accuracy\u001b[0m\u001b[0;34m\u001b[0m\u001b[0;34m\u001b[0m\u001b[0m\n",
            "\u001b[0;32m<ipython-input-39-80ed3ca5198d>\u001b[0m in \u001b[0;36mtest_nn\u001b[0;34m(model, testloader, use_gpu)\u001b[0m\n\u001b[1;32m     13\u001b[0m     \u001b[0;31m# Select device (GPU if available, otherwise CPU)\u001b[0m\u001b[0;34m\u001b[0m\u001b[0;34m\u001b[0m\u001b[0m\n\u001b[1;32m     14\u001b[0m     \u001b[0mdevice\u001b[0m \u001b[0;34m=\u001b[0m \u001b[0mtorch\u001b[0m\u001b[0;34m.\u001b[0m\u001b[0mdevice\u001b[0m\u001b[0;34m(\u001b[0m\u001b[0;34m\"cuda\"\u001b[0m \u001b[0;32mif\u001b[0m \u001b[0muse_gpu\u001b[0m \u001b[0;32mand\u001b[0m \u001b[0mtorch\u001b[0m\u001b[0;34m.\u001b[0m\u001b[0mcuda\u001b[0m\u001b[0;34m.\u001b[0m\u001b[0mis_available\u001b[0m\u001b[0;34m(\u001b[0m\u001b[0;34m)\u001b[0m \u001b[0;32melse\u001b[0m \u001b[0;34m\"cpu\"\u001b[0m\u001b[0;34m)\u001b[0m\u001b[0;34m\u001b[0m\u001b[0;34m\u001b[0m\u001b[0m\n\u001b[0;32m---> 15\u001b[0;31m     \u001b[0mmodel\u001b[0m\u001b[0;34m.\u001b[0m\u001b[0mto\u001b[0m\u001b[0;34m(\u001b[0m\u001b[0mdevice\u001b[0m\u001b[0;34m)\u001b[0m\u001b[0;34m\u001b[0m\u001b[0;34m\u001b[0m\u001b[0m\n\u001b[0m\u001b[1;32m     16\u001b[0m \u001b[0;34m\u001b[0m\u001b[0m\n\u001b[1;32m     17\u001b[0m     \u001b[0mmodel\u001b[0m\u001b[0;34m.\u001b[0m\u001b[0meval\u001b[0m\u001b[0;34m(\u001b[0m\u001b[0;34m)\u001b[0m  \u001b[0;31m# Set model to evaluation mode\u001b[0m\u001b[0;34m\u001b[0m\u001b[0;34m\u001b[0m\u001b[0m\n",
            "\u001b[0;31mAttributeError\u001b[0m: 'DataLoader' object has no attribute 'to'"
          ]
        }
      ],
      "source": [
        "# Define models\n",
        "models = {\n",
        "    \"Base CNN\": CNN,\n",
        "    \"LeNet-5\": lambda: LeNet5(num_classes=10)\n",
        "}\n",
        "\n",
        "# Store results\n",
        "ga_results = {}\n",
        "\n",
        "for model_name, model_class in models.items():\n",
        "    print(f\"\\nRunning Genetic Algorithm for {model_name}...\")\n",
        "\n",
        "    # Run GA for this model\n",
        "    ga_results[model_name] = run_genetic_algorithm(model_class, CRITERION, POPULATION_SIZE, GENERATIONS, trainloader, testloader, epochs=EPOCHS, mutation_rate=MUTATION_RATE)"
      ]
    },
    {
      "cell_type": "code",
      "execution_count": null,
      "metadata": {
        "id": "F4o39RkfyjWx"
      },
      "outputs": [],
      "source": [
        "# Evaluate the base cnn best models\n",
        "best_cnn_model = ga_results[\"Base CNN\"][\"best_model\"]\n",
        "best_cnn_results = evaluate_model(best_cnn_model, CRITERION, optimiser, trainloader, testloader, classes, epochs=EPOCHS, use_gpu=USE_GPU, train=False)"
      ]
    },
    {
      "cell_type": "code",
      "execution_count": null,
      "metadata": {
        "id": "-uLrEskByjWx"
      },
      "outputs": [],
      "source": [
        "#Evaluate the lenet best model\n",
        "best_lenet_model = ga_results[\"LeNet-5\"][\"best_model\"]\n",
        "best_lenet_results = evaluate_model(best_lenet_model, CRITERION, optimiser, trainloader, testloader, classes, epochs=EPOCHS, use_gpu=USE_GPU, train=False)\n"
      ]
    },
    {
      "cell_type": "code",
      "execution_count": null,
      "metadata": {
        "id": "2nyLgfs5jE5n"
      },
      "outputs": [],
      "source": [
        "# compare the models\n",
        "# Print Summary for Each Model\n",
        "for model_name, results in ga_results.items():\n",
        "    print(f\"\\n{model_name} Final Best Accuracy: {results['best_accuracies'][-1]:.2f}%\")\n",
        "    print(f\"{model_name} Time Taken Per Generation: {results['generation_times']}\")\n",
        "\n",
        "# Extract results for visualization\n",
        "cnn_best_accuracies = ga_results[\"Base CNN\"][\"best_accuracies\"]\n",
        "lenet_best_accuracies = ga_results[\"LeNet-5\"][\"best_accuracies\"]\n",
        "\n",
        "cnn_generation_times = ga_results[\"Base CNN\"][\"generation_times\"]\n",
        "lenet_generation_times = ga_results[\"LeNet-5\"][\"generation_times\"]\n",
        "\n",
        "# Plot Accuracy Progression\n",
        "plt.figure(figsize=(10, 5))\n",
        "plt.plot(range(1, len(cnn_best_accuracies) + 1), cnn_best_accuracies, marker=\"o\", linestyle=\"-\", label=\"Base CNN\")\n",
        "plt.plot(range(1, len(lenet_best_accuracies) + 1), lenet_best_accuracies, marker=\"s\", linestyle=\"--\", label=\"LeNet-5\")\n",
        "plt.xlabel(\"Generation\")\n",
        "plt.ylabel(\"Best Accuracy (%)\")\n",
        "plt.title(\"Genetic Algorithm: Accuracy Progression (CNN vs. LeNet-5)\")\n",
        "plt.legend()\n",
        "plt.grid(True)\n",
        "plt.show()\n",
        "\n",
        "# Plot Training Time per Generation\n",
        "plt.figure(figsize=(10, 5))\n",
        "plt.plot(range(1, len(cnn_generation_times) + 1), cnn_generation_times, marker=\"o\", linestyle=\"-\", label=\"Base CNN\")\n",
        "plt.plot(range(1, len(lenet_generation_times) + 1), lenet_generation_times, marker=\"s\", linestyle=\"--\", label=\"LeNet-5\")\n",
        "plt.xlabel(\"Generation\")\n",
        "plt.ylabel(\"Time Taken (seconds)\")\n",
        "plt.title(\"Genetic Algorithm: Time Taken Per Generation (CNN vs. LeNet-5)\")\n",
        "plt.legend()\n",
        "plt.grid(True)\n",
        "plt.show()"
      ]
    },
    {
      "cell_type": "code",
      "execution_count": null,
      "metadata": {
        "id": "hFBkMA_ojE5n"
      },
      "outputs": [],
      "source": [
        "# save the best models\n",
        "torch.save(best_cnn_model.state_dict(), \"best_cnn_model.pth\")\n",
        "torch.save(best_lenet_model.state_dict(), \"best_lenet_model.pth\")"
      ]
    },
    {
      "cell_type": "markdown",
      "metadata": {
        "id": "Rcr28jLiyjWx"
      },
      "source": [
        "---\n",
        "## **Ensemble Learning: Combining GA-Trained CNNs** <a id=\"Ensemble-Learning-Combining-GA-Trained-CNNs\"></a>\n",
        "*Applying ensemble methods like averaging, voting, and stacking to improve CNN performance.*"
      ]
    },
    {
      "cell_type": "code",
      "execution_count": null,
      "metadata": {
        "id": "gkZO_WKLyjWx"
      },
      "outputs": [],
      "source": []
    },
    {
      "cell_type": "markdown",
      "metadata": {
        "id": "hLImSioEjE5m"
      },
      "source": [
        "---\n",
        "\n",
        "## **Evaluation and Visualization** <a id=\"Evaluation-and-Visualization\"></a>\n",
        "*Visualizing loss, accuracy trends, and decision boundaries of CNN models.*"
      ]
    },
    {
      "cell_type": "code",
      "execution_count": null,
      "metadata": {
        "id": "nhuGifyUjE5m"
      },
      "outputs": [],
      "source": [
        "#This function will be used to evaluate the network.\n",
        "def evaluate_model(model, criterion, optimiser, trainloader, testloader, classes, epochs=5, use_gpu=True, show_graph=True, train=True):\n",
        "    \"\"\"\n",
        "    Trains and evaluates a PyTorch model while tracking losses and accuracies.\n",
        "\n",
        "    Args:\n",
        "        model: PyTorch model to train and evaluate.\n",
        "        trainloader: DataLoader containing training data.\n",
        "        testloader: DataLoader containing test data.\n",
        "        classes: List of class labels.\n",
        "        epochs (int, optional): Number of training epochs. Default is 10.\n",
        "        use_gpu (bool, optional): If True, enables GPU acceleration. Default is True.\n",
        "        show_graph (bool, optional): If True, displays accuracy/loss graphs. Default is True.\n",
        "        train (bool, optional): If True, trains the model. Default is True.\n",
        "\n",
        "    Returns:\n",
        "        results (dict): Dictionary containing:\n",
        "            - 'train_losses': List of training losses.\n",
        "            - 'train_accuracies': List of training accuracies.\n",
        "            - 'test_accuracies': List of test accuracies.\n",
        "            - 'test_class_accuracies': Dictionary of per-class accuracy.\n",
        "            - 'final_test_accuracy': Final overall test accuracy.\n",
        "            - 'total_time': Total time taken for training.\n",
        "    \"\"\"\n",
        "    # Move model to GPU if available\n",
        "    device = torch.device(\"cuda\" if use_gpu and torch.cuda.is_available() else \"cpu\")\n",
        "    model.to(device)\n",
        "    optimiser = optim.SGD(model.parameters(), lr=0.01, momentum=0.9)  # reinitialise the optimizer after moving to GPU\n",
        "\n",
        "    # Initialize tracking variables\n",
        "    train_losses = []\n",
        "    train_accuracies = []\n",
        "    test_accuracies = []\n",
        "\n",
        "    total_training_time = 0\n",
        "\n",
        "    if train:\n",
        "        # Training and Evaluation Loop\n",
        "        for epoch in range(epochs):\n",
        "            # print(f\"\\nEpoch {epoch+1}/{epochs}\")\n",
        "\n",
        "            # Train the model for one epoch\n",
        "            train_loss, train_time = train_nn(model, trainloader, criterion, epochs=1, use_gpu=use_gpu)\n",
        "            total_training_time += train_time\n",
        "\n",
        "            # Test the model after training\n",
        "            test_accuracy = test_nn(testloader, model, use_gpu=use_gpu)\n",
        "\n",
        "            # Store losses and accuracies\n",
        "            train_losses.append(train_loss[-1])  # Store the last batch loss of the epoch\n",
        "            train_accuracies.append(test_nn(trainloader, model, use_gpu=use_gpu))\n",
        "            test_accuracies.append(test_accuracy)\n",
        "\n",
        "            print(f'Epoch {epoch+1}: Train Loss: {train_loss[-1]:.4f}, Test Accuracy: {test_accuracy:.2f}%')\n",
        "\n",
        "        # Final test accuracy after all epochs\n",
        "        final_test_accuracy = test_accuracies[-1]\n",
        "    else:\n",
        "        final_test_accuracy = test_nn(testloader, model, use_gpu=use_gpu)\n",
        "\n",
        "\n",
        "    # final test acuracy per class\n",
        "    test_class_accuracies = test_nn_per_class(testloader, model, classes, use_gpu=use_gpu)\n",
        "\n",
        "    if show_graph:\n",
        "        if train:\n",
        "            # Plot training vs testing accuracy if enabled\n",
        "            plt.figure(figsize=(12, 6))\n",
        "            plt.plot(range(1, epochs+1), train_accuracies, label='Train Accuracy')\n",
        "            plt.plot(range(1, epochs+1), test_accuracies, label='Test Accuracy')\n",
        "            plt.title('Training vs Testing Accuracy')\n",
        "            plt.xlabel('Epochs')\n",
        "            plt.ylabel('Accuracy (%)')\n",
        "            plt.legend()\n",
        "            plt.grid(True)\n",
        "            plt.show()\n",
        "\n",
        "            #plot the loss curve over time as the model trained\n",
        "            plt.figure(figsize=(10, 5))\n",
        "            plt.plot(train_losses, label='Training Loss', color='blue')\n",
        "            plt.xlabel('Batch (x2000)')\n",
        "            plt.ylabel('Loss')\n",
        "            plt.title('Training Loss Over Time')\n",
        "            plt.legend()\n",
        "            plt.legend()\n",
        "            plt.grid(True)\n",
        "            plt.show()\n",
        "\n",
        "        # Plot per-class accuracy if enabled\n",
        "        plt.figure(figsize=(10, 5))\n",
        "        plt.bar(test_class_accuracies.keys(), test_class_accuracies.values(), color='blue')\n",
        "        plt.xlabel(\"Classes\")\n",
        "        plt.ylabel(\"Accuracy (%)\")\n",
        "        plt.title(\"Model Accuracy Per Class\")\n",
        "        plt.xticks(rotation=45)  # Rotate class names for readability\n",
        "        plt.ylim(0, 100)  # Set y-axis range to 0-100%\n",
        "        plt.show()\n",
        "\n",
        "        # print per-class accuracy\n",
        "        for classname, accuracy in test_class_accuracies.items():\n",
        "            print(f'Accuracy for class {classname:5s}: {accuracy:.1f}%')\n",
        "\n",
        "    # Return all results in a dictionary\n",
        "    results = {\n",
        "        \"train_losses\": train_losses,\n",
        "        \"train_accuracies\": train_accuracies,\n",
        "        \"test_accuracies\": test_accuracies,\n",
        "        \"test_class_accuracies\": test_class_accuracies,\n",
        "        \"final_test_accuracy\": final_test_accuracy,\n",
        "        \"total_training_time\": total_training_time\n",
        "    }\n",
        "\n",
        "    return results"
      ]
    },
    {
      "cell_type": "markdown",
      "metadata": {
        "id": "WvrSesQQjE5o"
      },
      "source": [
        "---\n",
        "## **Conclusion** <a id=\"Conclusion\"></a>\n",
        "*Key takeaways, strengths, and future directions for GA-based CNN training.*\n",
        "\n"
      ]
    },
    {
      "cell_type": "markdown",
      "metadata": {
        "id": "b6tyoEmCjE5o"
      },
      "source": [
        "---\n",
        "## Tutorial comparison\n"
      ]
    },
    {
      "cell_type": "markdown",
      "metadata": {
        "id": "g1yLCLhMjE5o"
      },
      "source": [
        "---\n",
        "## **References** <a id=\"References\"></a>\n",
        "*Citations and references for further reading.*\n",
        "\n",
        "source [1] : https://pytorch.org/tutorials/beginner/blitz/cifar10_tutorial.html <br>\n",
        "source [2] : https://www.geeksforgeeks.org/how-to-implement-genetic-algorithm-using-pytorch/"
      ]
    }
  ],
  "metadata": {
    "accelerator": "GPU",
    "colab": {
      "gpuType": "A100",
      "machine_shape": "hm",
      "provenance": [],
      "toc_visible": true,
      "include_colab_link": true
    },
    "kernelspec": {
      "display_name": "Python 3",
      "name": "python3"
    },
    "language_info": {
      "codemirror_mode": {
        "name": "ipython",
        "version": 3
      },
      "file_extension": ".py",
      "mimetype": "text/x-python",
      "name": "python",
      "nbconvert_exporter": "python",
      "pygments_lexer": "ipython3",
      "version": "3.12.8"
    }
  },
  "nbformat": 4,
  "nbformat_minor": 0
}