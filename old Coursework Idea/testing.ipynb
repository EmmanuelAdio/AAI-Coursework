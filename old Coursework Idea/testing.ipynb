{
 "cells": [
  {
   "cell_type": "code",
   "execution_count": 1,
   "metadata": {},
   "outputs": [
    {
     "name": "stdout",
     "output_type": "stream",
     "text": [
      "         x    y  function_value\n",
      "0 -5.00000 -5.0       12.642411\n",
      "1 -4.89899 -5.0       12.820287\n",
      "2 -4.79798 -5.0       13.299513\n",
      "3 -4.69697 -5.0       13.737921\n",
      "4 -4.59596 -5.0       13.971676\n"
     ]
    }
   ],
   "source": [
    "import numpy as np\n",
    "import pandas as pd\n",
    "\n",
    "# Define a benchmark function (Ackley Function)\n",
    "def ackley_function(x, y):\n",
    "    return -20 * np.exp(-0.2 * np.sqrt(0.5 * (x ** 2 + y ** 2))) - \\\n",
    "           np.exp(0.5 * (np.cos(2 * np.pi * x) + np.cos(2 * np.pi * y))) + np.e + 20\n",
    "\n",
    "# Generate dataset grid\n",
    "x_vals = np.linspace(-5, 5, 100)\n",
    "y_vals = np.linspace(-5, 5, 100)\n",
    "X, Y = np.meshgrid(x_vals, y_vals)\n",
    "Z = ackley_function(X, Y)\n",
    "\n",
    "# Convert to dataset format\n",
    "df = pd.DataFrame({\"x\": X.ravel(), \"y\": Y.ravel(), \"function_value\": Z.ravel()})\n",
    "\n",
    "# Save as CSV (so it can be reloaded as a structured dataset)\n",
    "df.to_csv(\"ackley_function_dataset.csv\", index=False)\n",
    "\n",
    "# Load and inspect dataset\n",
    "print(df.head())\n"
   ]
  }
 ],
 "metadata": {
  "kernelspec": {
   "display_name": "newEnv",
   "language": "python",
   "name": "python3"
  },
  "language_info": {
   "codemirror_mode": {
    "name": "ipython",
    "version": 3
   },
   "file_extension": ".py",
   "mimetype": "text/x-python",
   "name": "python",
   "nbconvert_exporter": "python",
   "pygments_lexer": "ipython3",
   "version": "3.12.8"
  }
 },
 "nbformat": 4,
 "nbformat_minor": 2
}
